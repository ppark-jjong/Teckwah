{
 "cells": [
  {
   "cell_type": "code",
   "execution_count": 1,
   "metadata": {},
   "outputs": [
    {
     "name": "stdout",
     "output_type": "stream",
     "text": [
      "Collecting pyxlsb\n",
      "  Downloading pyxlsb-1.0.10-py2.py3-none-any.whl.metadata (2.5 kB)\n",
      "Downloading pyxlsb-1.0.10-py2.py3-none-any.whl (23 kB)\n",
      "Installing collected packages: pyxlsb\n",
      "Successfully installed pyxlsb-1.0.10\n"
     ]
    },
    {
     "name": "stderr",
     "output_type": "stream",
     "text": [
      "\n",
      "[notice] A new release of pip is available: 24.0 -> 24.1.2\n",
      "[notice] To update, run: python.exe -m pip install --upgrade pip\n"
     ]
    }
   ],
   "source": [
    "!pip install pyxlsb"
   ]
  },
  {
   "cell_type": "code",
   "execution_count": 2,
   "metadata": {},
   "outputs": [
    {
     "name": "stdout",
     "output_type": "stream",
     "text": [
      "Initial Quantity values: 0     1\n",
      "1     1\n",
      "2     1\n",
      "3     1\n",
      "4     1\n",
      "5     3\n",
      "6     1\n",
      "7     4\n",
      "8     1\n",
      "9     1\n",
      "10    2\n",
      "11    1\n",
      "12    1\n",
      "13    3\n",
      "14    1\n",
      "15    2\n",
      "16    1\n",
      "17    1\n",
      "18    1\n",
      "19    2\n",
      "Name: Quantity, dtype: int64\n",
      "Invalid Quantity values: Series([], Name: Quantity, dtype: int64)\n",
      "Converted Quantity values: 0     1\n",
      "1     1\n",
      "2     1\n",
      "3     1\n",
      "4     1\n",
      "5     3\n",
      "6     1\n",
      "7     4\n",
      "8     1\n",
      "9     1\n",
      "10    2\n",
      "11    1\n",
      "12    1\n",
      "13    3\n",
      "14    1\n",
      "15    2\n",
      "16    1\n",
      "17    1\n",
      "18    1\n",
      "19    2\n",
      "Name: Quantity, dtype: int32\n"
     ]
    }
   ],
   "source": [
    "import pandas as pd\n",
    "\n",
    "# 파일 경로 설정\n",
    "\n",
    "# 엑셀 파일 읽기\n",
    "df = pd.read_excel(file_path, sheet_name='CS Receiving TAT')\n",
    "\n",
    "# Quantity 컬럼 내용 확인\n",
    "quantity_values = df['Quantity'].head(20)\n",
    "print('Initial Quantity values:', quantity_values)\n",
    "\n",
    "# Quantity 컬럼을 정수로 변환 (변환되지 않는 값은 NaN으로 설정)\n",
    "df['Quantity'] = pd.to_numeric(df['Quantity'], errors='coerce')\n",
    "\n",
    "# 변환되지 않은 값들 확인\n",
    "invalid_values = df[df['Quantity'].isna()]['Quantity']\n",
    "print('Invalid Quantity values:', invalid_values)\n",
    "\n",
    "# NaN 값을 0으로 대체\n",
    "df['Quantity'] = df['Quantity'].fillna(0).astype(int)\n",
    "\n",
    "# 변환 후 데이터 확인\n",
    "print('Converted Quantity values:', df['Quantity'].head(20))\n"
   ]
  },
  {
   "cell_type": "code",
   "execution_count": null,
   "metadata": {},
   "outputs": [],
   "source": []
  }
 ],
 "metadata": {
  "kernelspec": {
   "display_name": "Python 3",
   "language": "python",
   "name": "python3"
  },
  "language_info": {
   "codemirror_mode": {
    "name": "ipython",
    "version": 3
   },
   "file_extension": ".py",
   "mimetype": "text/x-python",
   "name": "python",
   "nbconvert_exporter": "python",
   "pygments_lexer": "ipython3",
   "version": "3.12.3"
  }
 },
 "nbformat": 4,
 "nbformat_minor": 2
}
