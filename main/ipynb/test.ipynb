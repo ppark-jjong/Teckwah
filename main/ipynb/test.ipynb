{
 "cells": [
  {
   "cell_type": "code",
   "execution_count": 2,
   "metadata": {},
   "outputs": [],
   "source": [
    "pip install xlsxwriter"
   ]
  },
  {
   "cell_type": "code",
   "execution_count": 1,
   "metadata": {},
   "outputs": [
    {
     "name": "stdout",
     "output_type": "stream",
     "text": [
      "Collecting sqlalchemy\n",
      "  Downloading SQLAlchemy-2.0.31-cp312-cp312-win_amd64.whl.metadata (9.9 kB)\n",
      "Collecting pymysql\n",
      "  Downloading PyMySQL-1.1.1-py3-none-any.whl.metadata (4.4 kB)\n",
      "Requirement already satisfied: pandas in c:\\users\\parkjonghyeok\\appdata\\local\\programs\\python\\python312\\lib\\site-packages (2.2.2)\n",
      "Requirement already satisfied: openpyxl in c:\\users\\parkjonghyeok\\appdata\\local\\programs\\python\\python312\\lib\\site-packages (3.1.3)\n",
      "Requirement already satisfied: typing-extensions>=4.6.0 in c:\\users\\parkjonghyeok\\appdata\\local\\programs\\python\\python312\\lib\\site-packages (from sqlalchemy) (4.12.1)\n",
      "Collecting greenlet!=0.4.17 (from sqlalchemy)\n",
      "  Downloading greenlet-3.0.3-cp312-cp312-win_amd64.whl.metadata (3.9 kB)\n",
      "Requirement already satisfied: numpy>=1.26.0 in c:\\users\\parkjonghyeok\\appdata\\local\\programs\\python\\python312\\lib\\site-packages (from pandas) (1.26.4)\n",
      "Requirement already satisfied: python-dateutil>=2.8.2 in c:\\users\\parkjonghyeok\\appdata\\roaming\\python\\python312\\site-packages (from pandas) (2.9.0.post0)\n",
      "Requirement already satisfied: pytz>=2020.1 in c:\\users\\parkjonghyeok\\appdata\\local\\programs\\python\\python312\\lib\\site-packages (from pandas) (2024.1)\n",
      "Requirement already satisfied: tzdata>=2022.7 in c:\\users\\parkjonghyeok\\appdata\\local\\programs\\python\\python312\\lib\\site-packages (from pandas) (2024.1)\n",
      "Requirement already satisfied: et-xmlfile in c:\\users\\parkjonghyeok\\appdata\\local\\programs\\python\\python312\\lib\\site-packages (from openpyxl) (1.1.0)\n",
      "Requirement already satisfied: six>=1.5 in c:\\users\\parkjonghyeok\\appdata\\roaming\\python\\python312\\site-packages (from python-dateutil>=2.8.2->pandas) (1.16.0)\n",
      "Downloading SQLAlchemy-2.0.31-cp312-cp312-win_amd64.whl (2.1 MB)\n",
      "   ---------------------------------------- 0.0/2.1 MB ? eta -:--:--\n",
      "   ---- ----------------------------------- 0.2/2.1 MB 6.9 MB/s eta 0:00:01\n",
      "   --------------- ------------------------ 0.8/2.1 MB 10.1 MB/s eta 0:00:01\n",
      "   -------------------------- ------------- 1.4/2.1 MB 10.7 MB/s eta 0:00:01\n",
      "   ------------------------------------- -- 1.9/2.1 MB 11.2 MB/s eta 0:00:01\n",
      "   ---------------------------------------- 2.1/2.1 MB 11.1 MB/s eta 0:00:00\n",
      "Downloading PyMySQL-1.1.1-py3-none-any.whl (44 kB)\n",
      "   ---------------------------------------- 0.0/45.0 kB ? eta -:--:--\n",
      "   ---------------------------------------- 45.0/45.0 kB ? eta 0:00:00\n",
      "Downloading greenlet-3.0.3-cp312-cp312-win_amd64.whl (293 kB)\n",
      "   ---------------------------------------- 0.0/293.6 kB ? eta -:--:--\n",
      "   ---------------------------------------- 293.6/293.6 kB 8.9 MB/s eta 0:00:00\n",
      "Installing collected packages: pymysql, greenlet, sqlalchemy\n",
      "Successfully installed greenlet-3.0.3 pymysql-1.1.1 sqlalchemy-2.0.31\n",
      "Note: you may need to restart the kernel to use updated packages.\n"
     ]
    },
    {
     "name": "stderr",
     "output_type": "stream",
     "text": [
      "\n",
      "[notice] A new release of pip is available: 24.0 -> 24.1.2\n",
      "[notice] To update, run: python.exe -m pip install --upgrade pip\n"
     ]
    }
   ],
   "source": [
    "pip install sqlalchemy pymysql pandas openpyxl\n"
   ]
  },
  {
   "cell_type": "code",
   "execution_count": 2,
   "metadata": {},
   "outputs": [
    {
     "name": "stdout",
     "output_type": "stream",
     "text": [
      "Initial Quantity values: 0     1\n",
      "1     1\n",
      "2     1\n",
      "3     1\n",
      "4     1\n",
      "5     3\n",
      "6     1\n",
      "7     4\n",
      "8     1\n",
      "9     1\n",
      "10    2\n",
      "11    1\n",
      "12    1\n",
      "13    3\n",
      "14    1\n",
      "15    2\n",
      "16    1\n",
      "17    1\n",
      "18    1\n",
      "19    2\n",
      "Name: Quantity, dtype: int64\n",
      "Invalid Quantity values: Series([], Name: Quantity, dtype: int64)\n",
      "Converted Quantity values: 0     1\n",
      "1     1\n",
      "2     1\n",
      "3     1\n",
      "4     1\n",
      "5     3\n",
      "6     1\n",
      "7     4\n",
      "8     1\n",
      "9     1\n",
      "10    2\n",
      "11    1\n",
      "12    1\n",
      "13    3\n",
      "14    1\n",
      "15    2\n",
      "16    1\n",
      "17    1\n",
      "18    1\n",
      "19    2\n",
      "Name: Quantity, dtype: int32\n"
     ]
    }
   ],
   "source": [
    "import pandas as pd\n",
    "\n",
    "# 파일 경로 설정\n",
    "\n",
    "# 엑셀 파일 읽기\n",
    "df = pd.read_excel(file_path, sheet_name='CS Receiving TAT')\n",
    "\n",
    "# Quantity 컬럼 내용 확인\n",
    "quantity_values = df['Quantity'].head(20)\n",
    "print('Initial Quantity values:', quantity_values)\n",
    "\n",
    "# Quantity 컬럼을 정수로 변환 (변환되지 않는 값은 NaN으로 설정)\n",
    "df['Quantity'] = pd.to_numeric(df['Quantity'], errors='coerce')\n",
    "\n",
    "# 변환되지 않은 값들 확인\n",
    "invalid_values = df[df['Quantity'].isna()]['Quantity']\n",
    "print('Invalid Quantity values:', invalid_values)\n",
    "\n",
    "# NaN 값을 0으로 대체\n",
    "df['Quantity'] = df['Quantity'].fillna(0).astype(int)\n",
    "\n",
    "# 변환 후 데이터 확인\n",
    "print('Converted Quantity values:', df['Quantity'].head(20))\n"
   ]
  },
  {
   "cell_type": "code",
   "execution_count": null,
   "metadata": {},
   "outputs": [],
   "source": []
  }
 ],
 "metadata": {
  "kernelspec": {
   "display_name": "Python 3",
   "language": "python",
   "name": "python3"
  },
  "language_info": {
   "codemirror_mode": {
    "name": "ipython",
    "version": 3
   },
   "file_extension": ".py",
   "mimetype": "text/x-python",
   "name": "python",
   "nbconvert_exporter": "python",
   "pygments_lexer": "ipython3",
   "version": "3.12.3"
  }
 },
 "nbformat": 4,
 "nbformat_minor": 2
}
