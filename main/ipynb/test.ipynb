{
 "cells": [
  {
   "cell_type": "code",
   "execution_count": 1,
   "metadata": {},
   "outputs": [
    {
     "name": "stdout",
     "output_type": "stream",
     "text": [
      "  Detailed Order Type  Count RC  Count PO\n",
      "0            P1 - PNA       161        55\n",
      "1         P3 - Normal      4794       326\n"
     ]
    }
   ],
   "source": [
    "import pandas as pd\n",
    "\n",
    "# 엑셀 파일을 불러오기\n",
    "file_path = 'C:/MyMain/Teckwah/test/강화학습.xlsx'\n",
    "excel_data = pd.ExcelFile(file_path)\n",
    "\n",
    "# 각 시트의 데이터를 데이터프레임으로 불러오기\n",
    "cs_receiving_tat_df = pd.read_excel(file_path, sheet_name='CS_Receiving_TAT')\n",
    "lookup_df = pd.read_excel(file_path, sheet_name='lookup')\n",
    "\n",
    "# lookup 테이블의 열 이름 정리\n",
    "lookup_df.columns = ['EDI Order Type', 'Order Type', 'Unnamed: 2', 'Unnamed: 3', 'DELL WEEK', 'DELL MONTH', 'DELL QUARTER', 'FY']\n",
    "\n",
    "# 필요 없는 열 제거\n",
    "lookup_df = lookup_df[['EDI Order Type', 'Order Type']]\n",
    "\n",
    "# CS_Receiving_TAT 데이터와 lookup 데이터를 병합하여 Order Type 구체화\n",
    "cs_receiving_tat_df = cs_receiving_tat_df.merge(lookup_df, left_on='EDI Order Type', right_on='EDI Order Type', how='left')\n",
    "\n",
    "# 'Order Type_x'가 원래 열 이름이고, 'Order Type_y'가 구체화된 주문 유형이므로 'Order Type_x'를 'Original Order Type'으로 이름 변경\n",
    "cs_receiving_tat_df.rename(columns={'Order Type_x': 'Original Order Type', 'Order Type_y': 'Detailed Order Type'}, inplace=True)\n",
    "\n",
    "# 각 주문 유형별 Count RC 및 Count PO 값 계산\n",
    "grouped_df = cs_receiving_tat_df.groupby('Detailed Order Type').agg({'Count RC': 'sum', 'Count PO': 'sum'}).reset_index()\n",
    "\n",
    "# 결과 출력\n",
    "print(grouped_df)\n"
   ]
  },
  {
   "cell_type": "code",
   "execution_count": null,
   "metadata": {},
   "outputs": [],
   "source": []
  }
 ],
 "metadata": {
  "kernelspec": {
   "display_name": "Python 3",
   "language": "python",
   "name": "python3"
  },
  "language_info": {
   "codemirror_mode": {
    "name": "ipython",
    "version": 3
   },
   "file_extension": ".py",
   "mimetype": "text/x-python",
   "name": "python",
   "nbconvert_exporter": "python",
   "pygments_lexer": "ipython3",
   "version": "3.12.3"
  }
 },
 "nbformat": 4,
 "nbformat_minor": 2
}
