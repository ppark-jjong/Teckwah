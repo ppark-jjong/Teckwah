{
 "cells": [
  {
   "cell_type": "code",
   "execution_count": 1,
   "metadata": {},
   "outputs": [
    {
     "name": "stdout",
     "output_type": "stream",
     "text": [
      "오늘 날짜: 2024-06-13\n",
      "오늘은 6월의 3번째 주입니다.\n"
     ]
    }
   ],
   "source": [
    "import datetime\n",
    "\n",
    "# 오늘 날짜를 얻음\n",
    "today = datetime.date.today()\n",
    "\n",
    "# 첫째 주를 기준으로 현재 날짜가 몇 번째 주인지 계산\n",
    "# 월의 첫째 주는 1일이 포함된 주로 시작\n",
    "first_day_of_month = today.replace(day=1)\n",
    "first_day_of_week = first_day_of_month.weekday()  # 월요일을 기준으로 0 ~ 6\n",
    "days_since_first_day = today.day + first_day_of_week\n",
    "\n",
    "# 몇 번째 주인지 계산\n",
    "week_number = (days_since_first_day - 1) // 7 + 1\n",
    "\n",
    "# 결과 출력\n",
    "print(f\"오늘 날짜: {today}\")\n",
    "print(f\"오늘은 {today.month}월의 {week_number}번째 주입니다.\")\n"
   ]
  },
  {
   "cell_type": "code",
   "execution_count": null,
   "metadata": {},
   "outputs": [],
   "source": []
  }
 ],
 "metadata": {
  "kernelspec": {
   "display_name": "Python 3",
   "language": "python",
   "name": "python3"
  },
  "language_info": {
   "codemirror_mode": {
    "name": "ipython",
    "version": 3
   },
   "file_extension": ".py",
   "mimetype": "text/x-python",
   "name": "python",
   "nbconvert_exporter": "python",
   "pygments_lexer": "ipython3",
   "version": "3.12.3"
  }
 },
 "nbformat": 4,
 "nbformat_minor": 2
}
