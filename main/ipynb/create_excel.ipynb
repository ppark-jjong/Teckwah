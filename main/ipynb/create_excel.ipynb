{
 "cells": [
  {
   "cell_type": "code",
   "execution_count": 15,
   "metadata": {},
   "outputs": [
    {
     "name": "stdout",
     "output_type": "stream",
     "text": [
      "------ 스크랩한 엑셀 프레임------ \n",
      "          Date\n",
      "0  2024-05-31\n",
      "------ 입력된 날짜 리스트 ------\n",
      " {dates}\n",
      "------출력될 파일 이름------\n",
      "OTS_2024-05-31.xlsx\n"
     ]
    }
   ],
   "source": [
    "import pandas as pd\n",
    "\n",
    "# 클라이언트 요청 파일 경로 설정\n",
    "file_path = r\"C:\\\\Users\\\\Administrator\\\\Data\\\\main\\\\mainExcel.xlsx\"\n",
    "\n",
    "# 엑셀 파일 읽기\n",
    "client_date = pd.read_excel(file_path)\n",
    "\n",
    "# 'Date' 열을 datetime 객체로 변환\n",
    "client_date[\"Date\"] = pd.to_datetime(client_date[\"Date\"])\n",
    "\n",
    "# 시간을 제외하고 날짜를 문자열로 변환 (yyyy-mm-dd 형식)\n",
    "client_date[\"Date\"] = client_date[\"Date\"].dt.strftime(\"%Y-%m-%d\")\n",
    "\n",
    "# 데이터 프레임 출력\n",
    "print(f\"------ 스크랩한 엑셀 프레임------ \\n {client_date}\")\n",
    "\n",
    "# 'Date' 열을 Python 변수 (리스트 형식)로 추출\n",
    "dates = client_date[\"Date\"].tolist()\n",
    "\n",
    "# 'Date' 리스트 출력\n",
    "print(\"------ 입력된 날짜 리스트 ------\\n {dates}\")\n",
    "\n",
    "# 첫 번째 날짜를 사용하여 새로운 파일 이름 생성\n",
    "first_date = dates[0]\n",
    "new_name = f\"OTS_{first_date}.xlsx\"\n",
    "\n",
    "# 새 파일 이름 출력\n",
    "print(f\"------출력될 파일 이름------\\n{new_name}\")\n"
   ]
  },
  {
   "cell_type": "code",
   "execution_count": null,
   "metadata": {},
   "outputs": [],
   "source": []
  }
 ],
 "metadata": {
  "kernelspec": {
   "display_name": "Python 3",
   "language": "python",
   "name": "python3"
  },
  "language_info": {
   "codemirror_mode": {
    "name": "ipython",
    "version": 3
   },
   "file_extension": ".py",
   "mimetype": "text/x-python",
   "name": "python",
   "nbconvert_exporter": "python",
   "pygments_lexer": "ipython3",
   "version": "3.12.3"
  }
 },
 "nbformat": 4,
 "nbformat_minor": 2
}
