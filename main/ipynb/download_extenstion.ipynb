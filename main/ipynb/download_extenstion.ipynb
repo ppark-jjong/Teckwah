{
 "cells": [
  {
   "cell_type": "code",
   "execution_count": 2,
   "metadata": {},
   "outputs": [
    {
     "name": "stdout",
     "output_type": "stream",
     "text": [
      "Requirement already satisfied: selenium in c:\\users\\parkjonghyeok\\appdata\\local\\programs\\python\\python312\\lib\\site-packages (4.21.0)\n",
      "Requirement already satisfied: webdriver-manager in c:\\users\\parkjonghyeok\\appdata\\local\\programs\\python\\python312\\lib\\site-packages (4.0.1)\n",
      "Requirement already satisfied: urllib3<3,>=1.26 in c:\\users\\parkjonghyeok\\appdata\\roaming\\python\\python312\\site-packages (from urllib3[socks]<3,>=1.26->selenium) (2.2.1)\n",
      "Requirement already satisfied: trio~=0.17 in c:\\users\\parkjonghyeok\\appdata\\local\\programs\\python\\python312\\lib\\site-packages (from selenium) (0.25.1)\n",
      "Requirement already satisfied: trio-websocket~=0.9 in c:\\users\\parkjonghyeok\\appdata\\local\\programs\\python\\python312\\lib\\site-packages (from selenium) (0.11.1)\n",
      "Requirement already satisfied: certifi>=2021.10.8 in c:\\users\\parkjonghyeok\\appdata\\roaming\\python\\python312\\site-packages (from selenium) (2024.2.2)\n",
      "Requirement already satisfied: typing_extensions>=4.9.0 in c:\\users\\parkjonghyeok\\appdata\\local\\programs\\python\\python312\\lib\\site-packages (from selenium) (4.12.1)\n",
      "Requirement already satisfied: requests in c:\\users\\parkjonghyeok\\appdata\\roaming\\python\\python312\\site-packages (from webdriver-manager) (2.32.3)\n",
      "Requirement already satisfied: python-dotenv in c:\\users\\parkjonghyeok\\appdata\\local\\programs\\python\\python312\\lib\\site-packages (from webdriver-manager) (1.0.1)\n",
      "Requirement already satisfied: packaging in c:\\users\\parkjonghyeok\\appdata\\roaming\\python\\python312\\site-packages (from webdriver-manager) (24.0)\n",
      "Requirement already satisfied: attrs>=23.2.0 in c:\\users\\parkjonghyeok\\appdata\\roaming\\python\\python312\\site-packages (from trio~=0.17->selenium) (23.2.0)\n",
      "Requirement already satisfied: sortedcontainers in c:\\users\\parkjonghyeok\\appdata\\local\\programs\\python\\python312\\lib\\site-packages (from trio~=0.17->selenium) (2.4.0)\n",
      "Requirement already satisfied: idna in c:\\users\\parkjonghyeok\\appdata\\roaming\\python\\python312\\site-packages (from trio~=0.17->selenium) (3.7)\n",
      "Requirement already satisfied: outcome in c:\\users\\parkjonghyeok\\appdata\\local\\programs\\python\\python312\\lib\\site-packages (from trio~=0.17->selenium) (1.3.0.post0)\n",
      "Requirement already satisfied: sniffio>=1.3.0 in c:\\users\\parkjonghyeok\\appdata\\roaming\\python\\python312\\site-packages (from trio~=0.17->selenium) (1.3.1)\n",
      "Requirement already satisfied: cffi>=1.14 in c:\\users\\parkjonghyeok\\appdata\\roaming\\python\\python312\\site-packages (from trio~=0.17->selenium) (1.16.0)\n",
      "Requirement already satisfied: wsproto>=0.14 in c:\\users\\parkjonghyeok\\appdata\\local\\programs\\python\\python312\\lib\\site-packages (from trio-websocket~=0.9->selenium) (1.2.0)\n",
      "Requirement already satisfied: pysocks!=1.5.7,<2.0,>=1.5.6 in c:\\users\\parkjonghyeok\\appdata\\local\\programs\\python\\python312\\lib\\site-packages (from urllib3[socks]<3,>=1.26->selenium) (1.7.1)\n",
      "Requirement already satisfied: charset-normalizer<4,>=2 in c:\\users\\parkjonghyeok\\appdata\\roaming\\python\\python312\\site-packages (from requests->webdriver-manager) (3.3.2)\n",
      "Requirement already satisfied: pycparser in c:\\users\\parkjonghyeok\\appdata\\roaming\\python\\python312\\site-packages (from cffi>=1.14->trio~=0.17->selenium) (2.22)\n",
      "Requirement already satisfied: h11<1,>=0.9.0 in c:\\users\\parkjonghyeok\\appdata\\roaming\\python\\python312\\site-packages (from wsproto>=0.14->trio-websocket~=0.9->selenium) (0.14.0)\n",
      "Requirement already satisfied: pyautogui in c:\\users\\parkjonghyeok\\appdata\\local\\programs\\python\\python312\\lib\\site-packages (0.9.54)\n",
      "Requirement already satisfied: pymsgbox in c:\\users\\parkjonghyeok\\appdata\\local\\programs\\python\\python312\\lib\\site-packages (from pyautogui) (1.0.9)\n",
      "Requirement already satisfied: pytweening>=1.0.4 in c:\\users\\parkjonghyeok\\appdata\\local\\programs\\python\\python312\\lib\\site-packages (from pyautogui) (1.2.0)\n",
      "Requirement already satisfied: pyscreeze>=0.1.21 in c:\\users\\parkjonghyeok\\appdata\\local\\programs\\python\\python312\\lib\\site-packages (from pyautogui) (0.1.30)\n",
      "Requirement already satisfied: pygetwindow>=0.0.5 in c:\\users\\parkjonghyeok\\appdata\\local\\programs\\python\\python312\\lib\\site-packages (from pyautogui) (0.0.9)\n",
      "Requirement already satisfied: mouseinfo in c:\\users\\parkjonghyeok\\appdata\\local\\programs\\python\\python312\\lib\\site-packages (from pyautogui) (0.1.3)\n",
      "Requirement already satisfied: pyrect in c:\\users\\parkjonghyeok\\appdata\\local\\programs\\python\\python312\\lib\\site-packages (from pygetwindow>=0.0.5->pyautogui) (0.2.0)\n",
      "Requirement already satisfied: pyperclip in c:\\users\\parkjonghyeok\\appdata\\local\\programs\\python\\python312\\lib\\site-packages (from mouseinfo->pyautogui) (1.8.2)\n",
      "Requirement already satisfied: pandas in c:\\users\\parkjonghyeok\\appdata\\local\\programs\\python\\python312\\lib\\site-packages (2.2.2)\n",
      "Requirement already satisfied: numpy>=1.26.0 in c:\\users\\parkjonghyeok\\appdata\\local\\programs\\python\\python312\\lib\\site-packages (from pandas) (1.26.4)\n",
      "Requirement already satisfied: python-dateutil>=2.8.2 in c:\\users\\parkjonghyeok\\appdata\\roaming\\python\\python312\\site-packages (from pandas) (2.9.0.post0)\n",
      "Requirement already satisfied: pytz>=2020.1 in c:\\users\\parkjonghyeok\\appdata\\local\\programs\\python\\python312\\lib\\site-packages (from pandas) (2024.1)\n",
      "Requirement already satisfied: tzdata>=2022.7 in c:\\users\\parkjonghyeok\\appdata\\local\\programs\\python\\python312\\lib\\site-packages (from pandas) (2024.1)\n",
      "Requirement already satisfied: six>=1.5 in c:\\users\\parkjonghyeok\\appdata\\roaming\\python\\python312\\site-packages (from python-dateutil>=2.8.2->pandas) (1.16.0)\n",
      "Requirement already satisfied: openpyxl in c:\\users\\parkjonghyeok\\appdata\\local\\programs\\python\\python312\\lib\\site-packages (3.1.3)\n",
      "Requirement already satisfied: et-xmlfile in c:\\users\\parkjonghyeok\\appdata\\local\\programs\\python\\python312\\lib\\site-packages (from openpyxl) (1.1.0)\n",
      "^C\n"
     ]
    },
    {
     "name": "stdout",
     "output_type": "stream",
     "text": [
      "Collecting mysql\n",
      "  Downloading mysql-0.0.3-py3-none-any.whl.metadata (746 bytes)\n",
      "Collecting mysqlclient (from mysql)\n",
      "  Downloading mysqlclient-2.2.4-cp312-cp312-win_amd64.whl.metadata (4.6 kB)\n",
      "Downloading mysql-0.0.3-py3-none-any.whl (1.2 kB)\n",
      "Downloading mysqlclient-2.2.4-cp312-cp312-win_amd64.whl (203 kB)\n",
      "   ---------------------------------------- 0.0/203.3 kB ? eta -:--:--\n",
      "   -------------- ------------------------- 71.7/203.3 kB 2.0 MB/s eta 0:00:01\n",
      "   ---------------------------------------- 203.3/203.3 kB 4.1 MB/s eta 0:00:00\n",
      "Installing collected packages: mysqlclient, mysql\n",
      "Successfully installed mysql-0.0.3 mysqlclient-2.2.4\n"
     ]
    }
   ],
   "source": [
    "# 환경변수 설정\n",
    "!pip install selenium webdriver-manager\n",
    "!pip install pyautogui\n",
    "!pip install pandas\n",
    "!pip install openpyxl\n",
    "!pip install mysql\n",
    "# Codeium 변수 주입\n",
    "# import sys\n",
    "# !{sys.executable} -m pip install -U pip --user\n",
    "# !{sys.executable} -m pip install -U codeium-jupyter --user\n",
    "# !jupyter nbextension install --py codeium --user\n",
    "# !jupyter nbextension enable --py codeium --user\n",
    "# !jupyter serverextension enable --py codeium --user"
   ]
  },
  {
   "cell_type": "code",
   "execution_count": 3,
   "metadata": {},
   "outputs": [
    {
     "name": "stdout",
     "output_type": "stream",
     "text": [
      "Collecting mysql-connector-python\n",
      "  Downloading mysql_connector_python-8.4.0-cp312-cp312-win_amd64.whl.metadata (2.0 kB)\n",
      "Downloading mysql_connector_python-8.4.0-cp312-cp312-win_amd64.whl (14.5 MB)\n",
      "   ---------------------------------------- 0.0/14.5 MB ? eta -:--:--\n",
      "   ---------------------------------------- 0.0/14.5 MB 320.0 kB/s eta 0:00:46\n",
      "   ---------------------------------------- 0.2/14.5 MB 2.1 MB/s eta 0:00:07\n",
      "   -- ------------------------------------- 0.8/14.5 MB 6.1 MB/s eta 0:00:03\n",
      "   --- ------------------------------------ 1.3/14.5 MB 7.4 MB/s eta 0:00:02\n",
      "   ---- ----------------------------------- 1.5/14.5 MB 6.7 MB/s eta 0:00:02\n",
      "   ----- ---------------------------------- 1.9/14.5 MB 7.1 MB/s eta 0:00:02\n",
      "   ------ --------------------------------- 2.5/14.5 MB 7.9 MB/s eta 0:00:02\n",
      "   -------- ------------------------------- 3.0/14.5 MB 8.4 MB/s eta 0:00:02\n",
      "   --------- ------------------------------ 3.6/14.5 MB 8.8 MB/s eta 0:00:02\n",
      "   ----------- ---------------------------- 4.2/14.5 MB 9.2 MB/s eta 0:00:02\n",
      "   ------------- -------------------------- 4.7/14.5 MB 9.4 MB/s eta 0:00:02\n",
      "   -------------- ------------------------- 5.3/14.5 MB 9.6 MB/s eta 0:00:01\n",
      "   --------------- ------------------------ 5.4/14.5 MB 9.7 MB/s eta 0:00:01\n",
      "   --------------- ------------------------ 5.6/14.5 MB 8.7 MB/s eta 0:00:02\n",
      "   --------------- ------------------------ 5.7/14.5 MB 8.5 MB/s eta 0:00:02\n",
      "   ---------------- ----------------------- 6.0/14.5 MB 8.2 MB/s eta 0:00:02\n",
      "   ----------------- ---------------------- 6.4/14.5 MB 8.3 MB/s eta 0:00:01\n",
      "   ------------------- -------------------- 7.1/14.5 MB 8.5 MB/s eta 0:00:01\n",
      "   --------------------- ------------------ 7.7/14.5 MB 8.8 MB/s eta 0:00:01\n",
      "   ---------------------- ----------------- 8.3/14.5 MB 8.9 MB/s eta 0:00:01\n",
      "   ------------------------ --------------- 8.8/14.5 MB 9.1 MB/s eta 0:00:01\n",
      "   -------------------------- ------------- 9.4/14.5 MB 9.3 MB/s eta 0:00:01\n",
      "   --------------------------- ------------ 10.0/14.5 MB 9.4 MB/s eta 0:00:01\n",
      "   ----------------------------- ---------- 10.6/14.5 MB 10.2 MB/s eta 0:00:01\n",
      "   ------------------------------ --------- 11.2/14.5 MB 10.1 MB/s eta 0:00:01\n",
      "   -------------------------------- ------- 11.7/14.5 MB 10.4 MB/s eta 0:00:01\n",
      "   ---------------------------------- ----- 12.3/14.5 MB 10.6 MB/s eta 0:00:01\n",
      "   ----------------------------------- ---- 12.9/14.5 MB 10.6 MB/s eta 0:00:01\n",
      "   ------------------------------------- -- 13.5/14.5 MB 10.6 MB/s eta 0:00:01\n",
      "   -------------------------------------- - 14.0/14.5 MB 10.6 MB/s eta 0:00:01\n",
      "   ---------------------------------------  14.4/14.5 MB 10.6 MB/s eta 0:00:01\n",
      "   ---------------------------------------- 14.5/14.5 MB 10.4 MB/s eta 0:00:00\n",
      "Installing collected packages: mysql-connector-python\n",
      "Successfully installed mysql-connector-python-8.4.0\n"
     ]
    }
   ],
   "source": [
    "!pip install mysql-connector-python\n"
   ]
  },
  {
   "cell_type": "code",
   "execution_count": null,
   "metadata": {},
   "outputs": [],
   "source": []
  }
 ],
 "metadata": {
  "kernelspec": {
   "display_name": ".venv",
   "language": "python",
   "name": "python3"
  },
  "language_info": {
   "codemirror_mode": {
    "name": "ipython",
    "version": 3
   },
   "file_extension": ".py",
   "mimetype": "text/x-python",
   "name": "python",
   "nbconvert_exporter": "python",
   "pygments_lexer": "ipython3",
   "version": "3.12.3"
  }
 },
 "nbformat": 4,
 "nbformat_minor": 2
}
