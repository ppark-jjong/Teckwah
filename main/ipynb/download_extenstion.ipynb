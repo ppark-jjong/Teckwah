{
 "cells": [
  {
   "cell_type": "code",
   "execution_count": null,
   "metadata": {},
   "outputs": [
    {
     "ename": "",
     "evalue": "",
     "output_type": "error",
     "traceback": [
      "\u001b[1;31mFailed to start the Kernel. \n",
      "\u001b[1;31mBad file descriptor (C:\\Users\\runneradmin\\AppData\\Local\\Temp\\tmpkywtyyea\\build\\_deps\\bundled_libzmq-src\\src\\epoll.cpp:73). \n",
      "\u001b[1;31mView Jupyter <a href='command:jupyter.viewOutput'>log</a> for further details."
     ]
    }
   ],
   "source": [
    "# 환경변수 설정\n",
    "!pip install selenium webdriver-manager\n",
    "!pip install pyautogui\n",
    "!pip install pandas\n",
    "!pip install openpyxl\n",
    "\n",
    "# Codeium 변수 주입\n",
    "import sys\n",
    "!{sys.executable} -m pip install -U pip --user\n",
    "!{sys.executable} -m pip install -U codeium-jupyter --user\n",
    "!jupyter nbextension install --py codeium --user\n",
    "!jupyter nbextension enable --py codeium --user\n",
    "!jupyter serverextension enable --py codeium --user"
   ]
  },
  {
   "cell_type": "code",
   "execution_count": null,
   "metadata": {},
   "outputs": [],
   "source": []
  }
 ],
 "metadata": {
  "kernelspec": {
   "display_name": ".venv",
   "language": "python",
   "name": "python3"
  },
  "language_info": {
   "codemirror_mode": {
    "name": "ipython",
    "version": 3
   },
   "file_extension": ".py",
   "mimetype": "text/x-python",
   "name": "python",
   "nbconvert_exporter": "python",
   "pygments_lexer": "ipython3",
   "version": "3.12.3"
  }
 },
 "nbformat": 4,
 "nbformat_minor": 2
}
