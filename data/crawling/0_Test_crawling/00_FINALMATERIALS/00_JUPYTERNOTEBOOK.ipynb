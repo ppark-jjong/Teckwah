{
 "cells": [
  {
   "cell_type": "markdown",
   "metadata": {},
   "source": [
    "## 0. 강의 준비\n",
    "\n",
    "1. 강의용 폴더를 만들고, 첨부파일을 해당 폴더에 모아놓고, 실행하세요!\n",
    "2. jupyter notebook 실행\n",
    "3. 해당 폴더로 이동 후, 해당 파일 클릭해서 실행"
   ]
  },
  {
   "cell_type": "markdown",
   "metadata": {},
   "source": [
    "## 1. Jupyter Notebook 사용법\n",
    "\n",
    "- 셀 단위로 작업 가능\n",
    "- 셀에 코드 또는 글을 작성할 수 있음\n",
    "  - 코드 작성시는 Code, 글 작성시는 Markdown\n",
    "  - 코드 실행시, 코드 실행이 안된다면, 해당 셀에 Code 타입으로 되어 있는지 확인 필요\n",
    "- 셀 생성 \n",
    "  - 셀 선택 후(왼쪽 파란색 표시), 단축키 a (Above) 는 해당 셀 위에 셀 생성, 단축키 b (Below) 는 해당 셀 아래에 셀 생성\n",
    "- Code 셀 실행\n",
    "  - 셀 선택 후(왼쪽 파란색 표시), Shift + Enter\n",
    "  - 셀 실행 중이면 [*], 실행이 완료되었으면 [숫자] 가 표시 됨\n",
    "  - 셀 실행 중 [*] 인 상태에서 다른 셀은 실행되지 않음\n",
    "- 주의: 셀 실행시, 해당 셀의 코드가 무한 반복 또는 input() 실행 후, 입력이 없을 시, 해당 셀 실행이 완료되지 않음\n",
    "  - 이 때는 다른 셀 실행이 안됨! \n",
    "  - 상단의 박스 표시를 눌러서 Stop 하거나, jupyter notebook Restart\n",
    "  - 정 안되면 jupyter notebook 을 껐다 새로 실행 (그것도 안되면 컴퓨터 껐다 새로 실행)"
   ]
  },
  {
   "cell_type": "markdown",
   "metadata": {},
   "source": [
    "# Markdown 문법 예\n",
    "\n",
    "# Hello markdown1\n",
    "## Hello markdown2\n",
    "### Hello markdown3\n",
    "#### Hello markdown4\n",
    "\n",
    "* python language\n",
    "  * java language \n",
    "  * c++ \n",
    "  * c#\n",
    "* python 1\n",
    "* python 2\n",
    "\n",
    "> Blockquotes starts\n",
    "> This line is part of the same quote.\n",
    "\n",
    "> Good\n",
    "\n",
    "\n",
    "\n",
    "This is *python*\n",
    "\n",
    "This is **python**\n",
    "\n",
    "This is python\n",
    "\n",
    "[python webpage](https://www.python.org)\n",
    "\n",
    "[google page](https://google.com)"
   ]
  }
 ],
 "metadata": {
  "kernelspec": {
   "display_name": "Python 3 (ipykernel)",
   "language": "python",
   "name": "python3"
  },
  "language_info": {
   "codemirror_mode": {
    "name": "ipython",
    "version": 3
   },
   "file_extension": ".py",
   "mimetype": "text/x-python",
   "name": "python",
   "nbconvert_exporter": "python",
   "pygments_lexer": "ipython3",
   "version": "3.11.5"
  }
 },
 "nbformat": 4,
 "nbformat_minor": 4
}
