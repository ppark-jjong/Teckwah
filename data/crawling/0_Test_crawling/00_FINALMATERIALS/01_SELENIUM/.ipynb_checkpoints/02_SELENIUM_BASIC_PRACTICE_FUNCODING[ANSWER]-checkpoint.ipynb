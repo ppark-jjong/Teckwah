{
 "cells": [
  {
   "cell_type": "markdown",
   "metadata": {},
   "source": [
    "<div class=\"alert alert-block\" style=\"border: 1px solid #455A64;background-color:#ECEFF1;\">\n",
    "본 자료 및 영상 컨텐츠는 저작권법 제25조 2항에 의해 보호를 받습니다. 본 컨텐츠 및 컨텐츠 일부 문구등을 외부에 공개, 게시하는 것을 금지합니다. 특히 자료에 대해서는 저작권법을 엄격하게 적용하겠습니다.\n",
    "</div>"
   ]
  },
  {
   "cell_type": "markdown",
   "metadata": {
    "collapsed": true,
    "jupyter": {
     "outputs_hidden": true
    }
   },
   "source": [
    "## Selenium 활용 연습\n",
    " - 브라우저를 제어해서 크롤링을 하는 기법 연습"
   ]
  },
  {
   "cell_type": "markdown",
   "metadata": {},
   "source": [
    "### 연습1\n",
    "- 크롤링 연습 URL: https://davelee-fun.github.io/blog/crawl_html_css.html\n",
    "- id가 begin 인 데이터만 출력해보기"
   ]
  },
  {
   "cell_type": "code",
   "execution_count": 2,
   "metadata": {},
   "outputs": [
    {
     "name": "stdout",
     "output_type": "stream",
     "text": [
      "(초급) - 강사가 실제 사용하는 자동 프로그램 소개 [2]\n",
      "(초급) - 필요한 프로그램 설치 시연 [5]\n",
      "(초급) - 데이터를 엑셀 파일로 만들기 [9]\n",
      "(초급) -     엑셀 파일 이쁘게! 이쁘게! [8]\n",
      "(초급) -     나대신 주기적으로 파이썬 프로그램 실행하기 [7]\n",
      "(초급) - 파이썬으로 슬랙(slack) 메신저에 글쓰기 [40]\n",
      "(초급) - 웹사이트 변경사항 주기적으로 체크해서, 메신저로 알람주기 [12]\n",
      "(초급) - 네이버 API 사용해서, 블로그에 글쓰기 [42]\n"
     ]
    }
   ],
   "source": [
    "from selenium import webdriver\n",
    "from selenium.webdriver.common.by import By # 태그명(By.TAG_NAME) 사용을 위한 필수 import 문\n",
    "\n",
    "driver = webdriver.Chrome()    \n",
    "driver.get(\"https://davelee-fun.github.io/blog/crawl_html_css.html\") # 원하는 웹 페이지 로드\n",
    "\n",
    "elements = driver.find_elements(By.ID, \"begin\")\n",
    "for element in elements:\n",
    "    print (element.text)\n",
    "\n",
    "# 드라이버 종료 및 브라우저 닫기\n",
    "driver.quit()"
   ]
  },
  {
   "cell_type": "markdown",
   "metadata": {},
   "source": [
    "### 연습2\n",
    "- 크롤링 연습 URL: https://davelee-fun.github.io/blog/crawl_html_css.html\n",
    "- id가 begin 인 데이터만 출력해보기\n",
    "- headless chrome 으로 테스트해보기"
   ]
  },
  {
   "cell_type": "code",
   "execution_count": 3,
   "metadata": {},
   "outputs": [
    {
     "name": "stdout",
     "output_type": "stream",
     "text": [
      "(초급) - 강사가 실제 사용하는 자동 프로그램 소개 [2]\n",
      "(초급) - 필요한 프로그램 설치 시연 [5]\n",
      "(초급) - 데이터를 엑셀 파일로 만들기 [9]\n",
      "(초급) -     엑셀 파일 이쁘게! 이쁘게! [8]\n",
      "(초급) -     나대신 주기적으로 파이썬 프로그램 실행하기 [7]\n",
      "(초급) - 파이썬으로 슬랙(slack) 메신저에 글쓰기 [40]\n",
      "(초급) - 웹사이트 변경사항 주기적으로 체크해서, 메신저로 알람주기 [12]\n",
      "(초급) - 네이버 API 사용해서, 블로그에 글쓰기 [42]\n"
     ]
    }
   ],
   "source": [
    "from selenium import webdriver\n",
    "from selenium.webdriver.common.by import By # 태그명(By.TAG_NAME) 사용을 위한 필수 import 문\n",
    "\n",
    "headlessoptions = webdriver.ChromeOptions()\n",
    "headlessoptions.add_argument('headless')\n",
    "\n",
    "driver = webdriver.Chrome(options=headlessoptions)   \n",
    "driver.get(\"https://davelee-fun.github.io/blog/crawl_html_css.html\") # 원하는 웹 페이지 로드\n",
    "\n",
    "elements = driver.find_elements(By.ID, \"begin\")\n",
    "for element in elements:\n",
    "    print (element.text)\n",
    "\n",
    "# 드라이버 종료 및 브라우저 닫기\n",
    "driver.quit()"
   ]
  },
  {
   "cell_type": "markdown",
   "metadata": {},
   "source": [
    "### 연습3\n",
    "- 크롤링 연습 URL: https://davelee-fun.github.io/blog/crawl_html_css.html\n",
    "- 커리큘럼 일정 표의 데이터 모두 추출해보기"
   ]
  },
  {
   "cell_type": "code",
   "execution_count": 4,
   "metadata": {},
   "outputs": [
    {
     "name": "stdout",
     "output_type": "stream",
     "text": [
      "일정\n",
      "커리큘럼 타이틀\n",
      "난이도\n",
      "5.1 ~ 6.15\n",
      "나만의 엣지있는 블로그 사이트 만들기 (취미로 익히는 IT)\n",
      "초급\n",
      "6.16 ~ 7.31\n",
      "파이썬과 데이터과학 첫걸음 (IT 기본기 익히기)\n",
      "중급\n",
      "중급\n"
     ]
    }
   ],
   "source": [
    "from selenium import webdriver\n",
    "from selenium.webdriver.common.by import By # 태그명(By.TAG_NAME) 사용을 위한 필수 import 문\n",
    "\n",
    "driver = webdriver.Chrome()    \n",
    "driver.get(\"https://davelee-fun.github.io/blog/crawl_html_css.html\") # 원하는 웹 페이지 로드\n",
    "\n",
    "# 웹 페이지에서 <h1> 태그를 가진 요소 선택\n",
    "elements = driver.find_elements(By.TAG_NAME, \"td\")\n",
    "for element in elements:\n",
    "    print (element.text)\n",
    "\n",
    "# 선택한 요소의 텍스트 내용 출력\n",
    "print(element.text) # <h1> 태그 내부의 텍스트가 출력됨\n",
    "\n",
    "# 드라이버 종료 및 브라우저 닫기\n",
    "driver.quit()"
   ]
  },
  {
   "cell_type": "markdown",
   "metadata": {},
   "source": [
    "### 연습4\n",
    "- 크롤링 연습 URL: https://davelee-fun.github.io/blog/crawl_html_css.html\n",
    "- 다음 데이터만 추출해보기\n",
    "  - '(중급) - 자동으로 쿠팡파트너스 API 로 가져온 상품 정보, 네이버 블로그/트위터에 홍보하기 [412]'"
   ]
  },
  {
   "cell_type": "code",
   "execution_count": 6,
   "metadata": {},
   "outputs": [
    {
     "name": "stdout",
     "output_type": "stream",
     "text": [
      "(중급) - 자동으로 쿠팡파트너스 API 로 가져온 상품 정보, 네이버 블로그/트위터에 홍보하기 [412]\n"
     ]
    }
   ],
   "source": [
    "from selenium import webdriver\n",
    "from selenium.webdriver.common.by import By # 태그명(By.TAG_NAME) 사용을 위한 필수 import 문\n",
    "\n",
    "driver = webdriver.Chrome()    \n",
    "driver.get(\"https://davelee-fun.github.io/blog/crawl_html_css.html\") # 원하는 웹 페이지 로드\n",
    "\n",
    "element = driver.find_element(By.CSS_SELECTOR, \"li.course.paid\")\n",
    "print(element.text) \n",
    "\n",
    "\n",
    "driver.quit()"
   ]
  },
  {
   "cell_type": "markdown",
   "metadata": {},
   "source": [
    "### 연습5\n",
    "- 크롤링 연습 URL: https://davelee-fun.github.io/blog/TEST/index.html\n",
    "- 동적 데이터 크롤링해보기\n",
    "  - class 값이 news 인 태그의 내용 출력해보기\n",
    "  \n",
    "> 우선 https://davelee-fun.github.io/blog/TEST/index.html 웹페이지를 크롬 브라우저으로 접속해본 후, 해당 페이지의 소스보기로 class 값이 news 인 태그의 데이터를 확인해보세요!"
   ]
  },
  {
   "cell_type": "markdown",
   "metadata": {},
   "source": [
    "<div class=\"alert alert-block\" style=\"border: 2px solid #E65100;background-color:#FFF3E0;padding:10px\">\n",
    "<font size=\"4em\" style=\"font-weight:bold;color:#BF360C;\">참고: Javascript 와 동적 HTML</font><br>\n",
    "<font size=\"4em\" style=\"color:#BF360C;\">- Javascript 로 프로그래밍을 통해, HTML 코드를 만들 수 있음 </font><br> \n",
    "<code>\n",
    "// Javascript 언어로 HTML 코드를 작성하는 예\n",
    "function getNewsPost() {\n",
    "    const newsMsg = document.querySelector('.news');\n",
    "    newsMsg.innerText = '뉴스: 머신러닝 강좌가 나왔어요~~~';\n",
    "}\n",
    "</code>\n",
    "<br>\n",
    "<font size=\"3em\" style=\"color:#BF360C;\">- Javascript 로 프로그래밍을 통해, 서버를 Rest API 를 통해 호출하고, 가져온 데이터를 기반으로 HTML 코드를 만들 수 있음 </font><br>\n",
    "<font size=\"3em\">- 서버로부터 받아오는 정적인 HTML 코드에 Javascript 코드를 import 하는 경우가 많고, 정적인 HTML 코드가 브라우저에 렌더링(그려지면서)되면서, 포함된 Javascript 코드가 실행됨 (따라서, 짧은 시간이라도, Javascript코드를 실행하는 시간이 별도로 필요하기도 함)</font><br>\n",
    "<font size=\"3em\">- 서버로부터 받아오는 정적인 HTML 코드에 포함된 Javascript 코드가 브라우저에 렌더링(그려지면서)되면서, 실행되는 경우는, 서버에 정적인 HTML 코드를 요청하고, 이를 브라우저에 새로 처음부터 렌더링(그려지는)되는 상황이 아니므로 브라우저가 새로고침(refresh) 되지 않음</font><br>\n",
    "    \n",
    "<center><img src=\"https://www.fun-coding.org/00_Images/web+ajax2.png\" height=500></center><br>    \n",
    "<font size=\"3em\">이외에도 다양한 언어와 기술을 기반으로 동적 웹페이지를 작성할 수 있으며, 갈수록 관련 기술을 사용하는 웹사이트가 많아지고 있으므로, selenium/headless chrome 에 대해서는 참고로라도 이해하고 있어야 함</font><br>     \n",
    " \n",
    "</div>"
   ]
  },
  {
   "cell_type": "code",
   "execution_count": 9,
   "metadata": {},
   "outputs": [
    {
     "name": "stdout",
     "output_type": "stream",
     "text": [
      "뉴스: 머신러닝 강좌가 나왔어요~~~\n"
     ]
    }
   ],
   "source": [
    "from selenium import webdriver\n",
    "from selenium.webdriver.common.by import By # 태그명(By.TAG_NAME) 사용을 위한 필수 import 문\n",
    "import time\n",
    "\n",
    "driver = webdriver.Chrome()    \n",
    "driver.get(\"https://davelee-fun.github.io/blog/TEST/index.html\") # 원하는 웹 페이지 로드\n",
    "\n",
    "time.sleep(1)\n",
    "element = driver.find_element(By.CSS_SELECTOR, \"span.news\")\n",
    "print(element.text) \n",
    "\n",
    "driver.quit()"
   ]
  },
  {
   "cell_type": "markdown",
   "metadata": {},
   "source": [
    "### 연습6\n",
    "- 크롤링 연습 URL: https://davelee-fun.github.io/blog/TEST/index.html\n",
    "- 로그인 시나리오 해보기\n",
    "  - selenium 으로 아이디에 error@error.com , 패스워드에 1234 입력 후, 로그인 버튼 눌러보기\n",
    "  - 로그인 이후 보여지는 페이지에서 div.message 태그의 내용 출력해보기\n",
    "  \n",
    "- 참고1: css selector 로 속성명이 특정 속성값인 태그를 선택하는 방법: 태그[속성명=속성값]\n",
    "  - 예: `<input type=\"submit\" value=\"로그인\">` 에서 `input[type='submit']` \n",
    "  \n",
    "- 참고2: 요소를 클릭하는 방법\n",
    "  - 예: `element_button.click()` 로 클릭 가능함"
   ]
  },
  {
   "cell_type": "code",
   "execution_count": 11,
   "metadata": {},
   "outputs": [
    {
     "name": "stdout",
     "output_type": "stream",
     "text": [
      "실제 사이트는 www.fun-coding.org 입니다\n",
      "본 페이지는 로그인된 페이지입니다!\n",
      "뉴스: 머신러닝 강좌가 나왔어요~~~\n"
     ]
    }
   ],
   "source": [
    "from selenium import webdriver\n",
    "from selenium.webdriver.common.by import By\n",
    "from selenium.webdriver.common.keys import Keys\n",
    "\n",
    "driver = webdriver.Chrome()    \n",
    "driver.get(\"https://davelee-fun.github.io/blog/TEST/index.html\")\n",
    "\n",
    "\n",
    "element = driver.find_element(By.ID, \"username\")\n",
    "element.clear()\n",
    "element.send_keys(\"error@error.com\")\n",
    "\n",
    "element = driver.find_element(By.ID, \"password\")\n",
    "element.clear()\n",
    "element.send_keys(\"1234\")\n",
    "\n",
    "element = driver.find_element(By.CSS_SELECTOR, \"input[type='submit']\")\n",
    "element.click()\n",
    "\n",
    "time.sleep(3)\n",
    "\n",
    "element = driver.find_element(By.CSS_SELECTOR, \"div.message\")\n",
    "print (element.text)\n",
    "\n",
    "driver.quit()"
   ]
  },
  {
   "cell_type": "markdown",
   "metadata": {},
   "source": [
    "### 연습7\n",
    "- 두 웹페이지 왔다갔다 해보며 크롤링해보기\n",
    "  - 다음 사이트에서 로그아웃 버튼을 클릭하여, 나오는 다른 웹페이지에서 div.message CSS Selector 출력해보기\n",
    "    - https://davelee-fun.github.io/blog/TEST/index_login.html"
   ]
  },
  {
   "cell_type": "code",
   "execution_count": 12,
   "metadata": {},
   "outputs": [
    {
     "name": "stdout",
     "output_type": "stream",
     "text": [
      "실제 사이트는 www.fun-coding.org 입니다\n",
      "뉴스: 머신러닝 강좌가 나왔어요~~~\n"
     ]
    }
   ],
   "source": [
    "from selenium import webdriver\n",
    "from selenium.webdriver.common.by import By\n",
    "from selenium.webdriver.common.keys import Keys\n",
    "\n",
    "driver = webdriver.Chrome()    \n",
    "driver.get(\"https://davelee-fun.github.io/blog/TEST/index_login.html\")\n",
    "\n",
    "element = driver.find_element(By.CSS_SELECTOR, \"input[type='submit']\")\n",
    "element.click()\n",
    "\n",
    "time.sleep(3)\n",
    "\n",
    "element = driver.find_element(By.CSS_SELECTOR, \"div.message\")\n",
    "print (element.text)\n",
    "\n",
    "driver.quit()"
   ]
  },
  {
   "cell_type": "markdown",
   "metadata": {},
   "source": [
    "<div class=\"alert alert-block\" style=\"border: 1px solid #455A64;background-color:#ECEFF1;\">\n",
    "본 자료 및 영상 컨텐츠는 저작권법 제25조 2항에 의해 보호를 받습니다. 본 컨텐츠 및 컨텐츠 일부 문구등을 외부에 공개, 게시하는 것을 금지합니다. 특히 자료에 대해서는 저작권법을 엄격하게 적용하겠습니다.\n",
    "</div>"
   ]
  }
 ],
 "metadata": {
  "kernelspec": {
   "display_name": "Python 3 (ipykernel)",
   "language": "python",
   "name": "python3"
  },
  "language_info": {
   "codemirror_mode": {
    "name": "ipython",
    "version": 3
   },
   "file_extension": ".py",
   "mimetype": "text/x-python",
   "name": "python",
   "nbconvert_exporter": "python",
   "pygments_lexer": "ipython3",
   "version": "3.11.5"
  }
 },
 "nbformat": 4,
 "nbformat_minor": 4
}
