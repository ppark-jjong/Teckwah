{
 "cells": [
  {
   "cell_type": "markdown",
   "metadata": {},
   "source": [
    "<div class=\"alert alert-block\" style=\"border: 1px solid #455A64;background-color:#ECEFF1;\">\n",
    "본 자료 및 영상 컨텐츠는 저작권법 제25조 2항에 의해 보호를 받습니다. 본 컨텐츠 및 컨텐츠 일부 문구등을 외부에 공개, 게시하는 것을 금지합니다. 특히 자료에 대해서는 저작권법을 엄격하게 적용하겠습니다.\n",
    "</div>"
   ]
  },
  {
   "cell_type": "markdown",
   "metadata": {
    "collapsed": true,
    "jupyter": {
     "outputs_hidden": true
    }
   },
   "source": [
    "## Selenium with XPATH 활용 연습\n",
    " - Selenium 의 XPATH 선택 기능을 사용해서, 기존 CSS Selector 문제를 XPATH 로 변환해서 문제를 풀어보며, Selenium 과 XPATH 에 대해서 익숙해지도록 함\n"
   ]
  },
  {
   "cell_type": "markdown",
   "metadata": {},
   "source": [
    "### HTML 크롤링을 위한 기본 XPATH 문법\n",
    "<div class=\"alert alert-block\" style=\"border: 2px solid #E65100;background-color:#FFF3E0;padding:10px\">\n",
    "<font size=\"4em\" style=\"font-weight:bold;color:#BF360C;\">HTML 크롤링을 위한 XPATH 기본 포멧= //tagname[@Attribute='value']</font><br>\n",
    "- taganme: HTML 태그 이름<br>\n",
    "- Attribute: HTML 태그의 속성<br>\n",
    "- value: HTML 태그의 속성값\n",
    "</div>"
   ]
  },
  {
   "cell_type": "markdown",
   "metadata": {},
   "source": [
    "### 연습1\n",
    "- 크롤링 연습 URL: https://davelee-fun.github.io/blog/crawl_html_css.html\n",
    "- id가 begin 인 데이터만 출력해보기\n",
    "- XPATH 를 활용해서 코드 작성하기"
   ]
  },
  {
   "cell_type": "code",
   "execution_count": 1,
   "metadata": {},
   "outputs": [
    {
     "name": "stdout",
     "output_type": "stream",
     "text": [
      "(초급) - 강사가 실제 사용하는 자동 프로그램 소개 [2]\n",
      "(초급) - 필요한 프로그램 설치 시연 [5]\n",
      "(초급) - 데이터를 엑셀 파일로 만들기 [9]\n",
      "(초급) -     엑셀 파일 이쁘게! 이쁘게! [8]\n",
      "(초급) -     나대신 주기적으로 파이썬 프로그램 실행하기 [7]\n",
      "(초급) - 파이썬으로 슬랙(slack) 메신저에 글쓰기 [40]\n",
      "(초급) - 웹사이트 변경사항 주기적으로 체크해서, 메신저로 알람주기 [12]\n",
      "(초급) - 네이버 API 사용해서, 블로그에 글쓰기 [42]\n"
     ]
    }
   ],
   "source": [
    "from selenium import webdriver\n",
    "from selenium.webdriver.common.by import By # 태그명(By.TAG_NAME) 사용을 위한 필수 import 문\n",
    "\n",
    "driver = webdriver.Chrome()    \n",
    "driver.get(\"https://davelee-fun.github.io/blog/crawl_html_css.html\") # 원하는 웹 페이지 로드\n",
    "\n",
    "elements = driver.find_elements(By.XPATH, \"//*[@id='begin']\")\n",
    "for element in elements:\n",
    "    print (element.text)\n",
    "\n",
    "# 드라이버 종료 및 브라우저 닫기\n",
    "driver.quit()"
   ]
  },
  {
   "cell_type": "markdown",
   "metadata": {},
   "source": [
    "### 연습2: id가 begin 인 데이터만 출력해보기 (headless chrome 으로 테스트해보기)\n",
    "- 크롤링 연습 URL: https://davelee-fun.github.io/blog/crawl_html_css.html\n",
    "- id가 begin 인 데이터만 출력해보기\n",
    "- XPATH 를 활용해서 코드 작성하기\n",
    "- headless chrome 으로 작성해보기"
   ]
  },
  {
   "cell_type": "code",
   "execution_count": 2,
   "metadata": {},
   "outputs": [
    {
     "name": "stdout",
     "output_type": "stream",
     "text": [
      "(초급) - 강사가 실제 사용하는 자동 프로그램 소개 [2]\n",
      "(초급) - 필요한 프로그램 설치 시연 [5]\n",
      "(초급) - 데이터를 엑셀 파일로 만들기 [9]\n",
      "(초급) -     엑셀 파일 이쁘게! 이쁘게! [8]\n",
      "(초급) -     나대신 주기적으로 파이썬 프로그램 실행하기 [7]\n",
      "(초급) - 파이썬으로 슬랙(slack) 메신저에 글쓰기 [40]\n",
      "(초급) - 웹사이트 변경사항 주기적으로 체크해서, 메신저로 알람주기 [12]\n",
      "(초급) - 네이버 API 사용해서, 블로그에 글쓰기 [42]\n"
     ]
    }
   ],
   "source": [
    "from selenium import webdriver\n",
    "from selenium.webdriver.common.by import By # 태그명(By.TAG_NAME) 사용을 위한 필수 import 문\n",
    "\n",
    "headlessoptions = webdriver.ChromeOptions()\n",
    "headlessoptions.add_argument('headless')\n",
    "\n",
    "driver = webdriver.Chrome(options=headlessoptions)   \n",
    "driver.get(\"https://davelee-fun.github.io/blog/crawl_html_css.html\") # 원하는 웹 페이지 로드\n",
    "\n",
    "elements = driver.find_elements(By.XPATH, \"//*[@id='begin']\")\n",
    "for element in elements:\n",
    "    print (element.text)\n",
    "\n",
    "# 드라이버 종료 및 브라우저 닫기\n",
    "driver.quit()"
   ]
  },
  {
   "cell_type": "markdown",
   "metadata": {},
   "source": [
    "### 연습3\n",
    "- 크롤링 연습 URL: https://davelee-fun.github.io/blog/crawl_html_css.html\n",
    "- 커리큘럼 일정 표의 데이터 모두 추출해보기\n",
    "- XPATH 를 활용해서 코드 작성하기"
   ]
  },
  {
   "cell_type": "code",
   "execution_count": 3,
   "metadata": {},
   "outputs": [
    {
     "name": "stdout",
     "output_type": "stream",
     "text": [
      "일정\n",
      "커리큘럼 타이틀\n",
      "난이도\n",
      "5.1 ~ 6.15\n",
      "나만의 엣지있는 블로그 사이트 만들기 (취미로 익히는 IT)\n",
      "초급\n",
      "6.16 ~ 7.31\n",
      "파이썬과 데이터과학 첫걸음 (IT 기본기 익히기)\n",
      "중급\n",
      "중급\n"
     ]
    }
   ],
   "source": [
    "from selenium import webdriver\n",
    "from selenium.webdriver.common.by import By # 태그명(By.TAG_NAME) 사용을 위한 필수 import 문\n",
    "\n",
    "driver = webdriver.Chrome()    \n",
    "driver.get(\"https://davelee-fun.github.io/blog/crawl_html_css.html\") # 원하는 웹 페이지 로드\n",
    "\n",
    "# 웹 페이지에서 <h1> 태그를 가진 요소 선택\n",
    "elements = driver.find_elements(By.XPATH, \"//td\")\n",
    "for element in elements:\n",
    "    print (element.text)\n",
    "\n",
    "# 선택한 요소의 텍스트 내용 출력\n",
    "print(element.text) # <h1> 태그 내부의 텍스트가 출력됨\n",
    "\n",
    "# 드라이버 종료 및 브라우저 닫기\n",
    "driver.quit()"
   ]
  },
  {
   "cell_type": "markdown",
   "metadata": {},
   "source": [
    "### 연습4\n",
    "- 크롤링 연습 URL: https://davelee-fun.github.io/blog/crawl_html_css.html\n",
    "- 다음 데이터만 추출해보기\n",
    "  - '(중급) - 자동으로 쿠팡파트너스 API 로 가져온 상품 정보, 네이버 블로그/트위터에 홍보하기 [412]'\n",
    "- XPATH 를 활용해서 코드 작성하기"
   ]
  },
  {
   "cell_type": "code",
   "execution_count": 7,
   "metadata": {},
   "outputs": [
    {
     "name": "stdout",
     "output_type": "stream",
     "text": [
      "(중급) - 자동으로 쿠팡파트너스 API 로 가져온 상품 정보, 네이버 블로그/트위터에 홍보하기 [412]\n"
     ]
    }
   ],
   "source": [
    "from selenium import webdriver\n",
    "from selenium.webdriver.common.by import By # 태그명(By.TAG_NAME) 사용을 위한 필수 import 문\n",
    "\n",
    "driver = webdriver.Chrome()    \n",
    "driver.get(\"https://davelee-fun.github.io/blog/crawl_html_css.html\") # 원하는 웹 페이지 로드\n",
    "\n",
    "# element = driver.find_element(By.XPATH, \"//*[@id='advance']\")\n",
    "element = driver.find_element(By.XPATH, \"//*[contains(@class, 'course') and contains(@class, 'paid')]\")\n",
    "print(element.text) \n",
    "\n",
    "\n",
    "driver.quit()"
   ]
  },
  {
   "cell_type": "markdown",
   "metadata": {},
   "source": [
    "### 연습5\n",
    "- 크롤링 연습 URL: https://davelee-fun.github.io/blog/TEST/index.html \n",
    "- 동적 데이터 크롤링해보기\n",
    "  - class 값이 news 인 태그의 내용 출력해보기\n",
    "- XPATH 를 활용해서 코드 작성하기  "
   ]
  },
  {
   "cell_type": "code",
   "execution_count": 9,
   "metadata": {},
   "outputs": [
    {
     "name": "stdout",
     "output_type": "stream",
     "text": [
      "뉴스: 머신러닝 강좌가 나왔어요~~~\n"
     ]
    }
   ],
   "source": [
    "from selenium import webdriver\n",
    "from selenium.webdriver.common.by import By # 태그명(By.TAG_NAME) 사용을 위한 필수 import 문\n",
    "import time\n",
    "\n",
    "driver = webdriver.Chrome()    \n",
    "driver.get(\"https://davelee-fun.github.io/blog/TEST/index.html\") # 원하는 웹 페이지 로드\n",
    "\n",
    "time.sleep(1)\n",
    "element = driver.find_element(By.XPATH, \"//span[@class='news']\")\n",
    "print(element.text) \n",
    "\n",
    "driver.quit()"
   ]
  },
  {
   "cell_type": "markdown",
   "metadata": {},
   "source": [
    "### 연습6\n",
    "- 로그인 시나리오 해보기\n",
    "  - 크롤링 사이트: https://davelee-fun.github.io/blog/TEST/index.html\n",
    "  - selenium 으로 아이디에 error@error.com , 패스워드에 1234 입력 후, 로그인 버튼 눌러보기\n",
    "  - 로그인 이후 보여지는 페이지에서 div.message 태그의 내용 출력해보기\n",
    "  \n",
    "- 참고1: css selector 로 속성명이 특정 속성값인 태그를 선택하는 방법: 태그[속성명=속성값]\n",
    "  - 예: `<input type=\"submit\" value=\"로그인\">` 에서 `input[type='submit']` \n",
    "  \n",
    "- 참고2: 요소를 클릭하는 방법\n",
    "  - 예: `element_button.click()` 로 클릭 가능함\n",
    "  \n",
    "- XPATH 를 활용해서 코드 작성하기 "
   ]
  },
  {
   "cell_type": "code",
   "execution_count": 10,
   "metadata": {},
   "outputs": [
    {
     "name": "stdout",
     "output_type": "stream",
     "text": [
      "실제 사이트는 www.fun-coding.org 입니다\n",
      "본 페이지는 로그인된 페이지입니다!\n",
      "뉴스: 머신러닝 강좌가 나왔어요~~~\n"
     ]
    }
   ],
   "source": [
    "from selenium import webdriver\n",
    "from selenium.webdriver.common.by import By\n",
    "from selenium.webdriver.common.keys import Keys\n",
    "\n",
    "driver = webdriver.Chrome()    \n",
    "driver.get(\"https://davelee-fun.github.io/blog/TEST/index.html\")\n",
    "\n",
    "\n",
    "element = driver.find_element(By.XPATH, \"//input[@id='username']\")\n",
    "element.clear()\n",
    "element.send_keys(\"error@error.com\")\n",
    "\n",
    "element = driver.find_element(By.XPATH, \"//input[@id='password']\")\n",
    "element.clear()\n",
    "element.send_keys(\"1234\")\n",
    "\n",
    "element = driver.find_element(By.XPATH, \"//input[@type='submit']\")\n",
    "element.click()\n",
    "\n",
    "time.sleep(3)\n",
    "\n",
    "element = driver.find_element(By.XPATH, \"//div[@class='message']\")\n",
    "print (element.text)\n",
    "\n",
    "driver.quit()"
   ]
  },
  {
   "cell_type": "markdown",
   "metadata": {},
   "source": [
    "### 연습7\n",
    "- 두 웹페이지 왔다갔다 해보며 크롤링해보기\n",
    "  - 다음 사이트에서 로그아웃 버튼을 클릭하여, 나오는 다른 웹페이지에서 div.message CSS Selector 출력해보기\n",
    "    - https://davelee-fun.github.io/blog/TEST/index_login.html\n",
    "- XPATH 를 활용해서 코드 작성하기 "
   ]
  },
  {
   "cell_type": "code",
   "execution_count": 11,
   "metadata": {},
   "outputs": [
    {
     "name": "stdout",
     "output_type": "stream",
     "text": [
      "실제 사이트는 www.fun-coding.org 입니다\n",
      "뉴스: 머신러닝 강좌가 나왔어요~~~\n"
     ]
    }
   ],
   "source": [
    "from selenium import webdriver\n",
    "from selenium.webdriver.common.by import By\n",
    "from selenium.webdriver.common.keys import Keys\n",
    "\n",
    "driver = webdriver.Chrome()    \n",
    "driver.get(\"https://davelee-fun.github.io/blog/TEST/index_login.html\")\n",
    "\n",
    "element = driver.find_element(By.XPATH, \"//input[@type='submit']\")\n",
    "element.click()\n",
    "\n",
    "time.sleep(3)\n",
    "\n",
    "element = driver.find_element(By.XPATH, \"//div[@class='message']\")\n",
    "print (element.text)\n",
    "\n",
    "driver.quit()"
   ]
  },
  {
   "cell_type": "markdown",
   "metadata": {},
   "source": [
    "<div class=\"alert alert-block\" style=\"border: 1px solid #455A64;background-color:#ECEFF1;\">\n",
    "본 자료 및 영상 컨텐츠는 저작권법 제25조 2항에 의해 보호를 받습니다. 본 컨텐츠 및 컨텐츠 일부 문구등을 외부에 공개, 게시하는 것을 금지합니다. 특히 자료에 대해서는 저작권법을 엄격하게 적용하겠습니다.\n",
    "</div>"
   ]
  }
 ],
 "metadata": {
  "kernelspec": {
   "display_name": "Python 3 (ipykernel)",
   "language": "python",
   "name": "python3"
  },
  "language_info": {
   "codemirror_mode": {
    "name": "ipython",
    "version": 3
   },
   "file_extension": ".py",
   "mimetype": "text/x-python",
   "name": "python",
   "nbconvert_exporter": "python",
   "pygments_lexer": "ipython3",
   "version": "3.11.5"
  }
 },
 "nbformat": 4,
 "nbformat_minor": 4
}
