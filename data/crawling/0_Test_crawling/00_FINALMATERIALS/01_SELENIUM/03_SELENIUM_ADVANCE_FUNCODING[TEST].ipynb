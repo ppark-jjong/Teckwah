{
 "cells": [
  {
   "cell_type": "markdown",
   "metadata": {},
   "source": [
    "<div class=\"alert alert-block\" style=\"border: 1px solid #455A64;background-color:#ECEFF1;\">\n",
    "본 자료 및 영상 컨텐츠는 저작권법 제25조 2항에 의해 보호를 받습니다. 본 컨텐츠 및 컨텐츠 일부 문구등을 외부에 공개, 게시하는 것을 금지합니다. 특히 자료에 대해서는 저작권법을 엄격하게 적용하겠습니다.\n",
    "</div>"
   ]
  },
  {
   "cell_type": "markdown",
   "metadata": {},
   "source": [
    "## Selenium 중급 활용\n",
    "- Selenium 은 웹페이지를 테스트하는 프로그램이므로, 다양한 기능이 제공됨\n",
    "- 이를 잘 활용하면, 기본 크롤링에서는 하기 어려운 작업을 할 수 있음"
   ]
  },
  {
   "cell_type": "markdown",
   "metadata": {},
   "source": [
    "### 1. 페이지를 자동으로 이동해가며 크롤링하기 (첫페이지부터 다섯페이지까지!)\n",
    "다음과 같은 문제만 읽고, 해당 사이트에 접속해서, 어떻게 하면 selenium 으로 크롤링할지를 생각해보고, 코드로 처음부터 끝까지 작성해보세요~\n",
    "- https://davelee-fun.github.io/ 사이트에서 상품명을 5페이지 크롤링하기\n",
    "\n",
    "> 수차례 테스트하시면, 해당 서버가 버티지 못하고, 크롤링을 막을 수 있습니다. 따라서, 전체 코드를 온전히 정확히 작성하신 후, 최소한으로 테스트 부탁드립니다! 저희는 배려와 공감의 마음도 가지고 있는 좋은 개발자/데이터 과학자가 되는 것이 목표이니까요~~\n",
    "\n",
    "- 힌트: 페이지 번호 메뉴에서 Next 를 클릭하면, 다음 페이지로 이동이 가능함\n",
    "\n",
    "- 참고: 여러 객체 리스트에서 맨 마지막 객체 선택해보기 (리스트 문법으로 선택 가능함)\n",
    "```python\n",
    "    elements = driver.find_elements(By.CSS_SELECTOR, \".ml-1.mr-1\")\n",
    "    elements[-1].click()\n",
    "```"
   ]
  },
  {
   "cell_type": "code",
   "execution_count": 4,
   "metadata": {
    "scrolled": true
   },
   "outputs": [
    {
     "name": "stdout",
     "output_type": "stream",
     "text": [
      "https://davelee-fun.github.io/\n",
      "상품명: 보몽드 순면스퀘어 솔리드 누빔매트커버, 다크블루\n",
      "상품명: 슈에뜨룸 선인장 리플 침구 세트, 베이지\n",
      "상품명: 선우랜드 레인보우 2단 문걸이용 옷걸이 _중형, 화이트, 상세페이지참조\n",
      "상품명: 보드래 헬로우 누빔 매트리스커버, 핑크\n",
      "상품명: 보드래 퍼펙트 누빔 매트리스커버, 차콜\n",
      "상품명: 피아블 클래식 방수 매트리스커버, 화이트\n",
      "상품명: 더자리 에코항균 마이크로 매트리스커버, 밀키차콜그레이\n",
      "상품명: 더자리 프레쉬 퓨어 매트리스 커버, 퓨어 차콜그레이\n",
      "상품명: 몽쉐어 알러스킨 항균 매트리스 커버, 카키그레이\n",
      "상품명: 쿠팡 브랜드 - 코멧 홈 40수 트윌 순면 100% 홑겹 매트리스커버, 그레이\n",
      "상품명: 패브릭아트 항균 마이크로 원단 매트리스 커버, 아이보리\n",
      "상품명: 바숨 순면 누빔 침대 매트리스커버, 차콜\n",
      "상품명: WEMAX 다용도 문옷걸이, 화이트, 1개\n",
      "상품명: 타카타카 프리미엄 나노 화이바 누빔 매트리스 커버, 젠틀핑핑\n",
      "상품명: 보몽드 순면스퀘어 누빔매트커버, 다크그레이\n",
      "상품명: 보드래 국내산 순면 60수 누빔 매트리스커버, 그레이\n",
      "https://davelee-fun.github.io/page2/\n",
      "상품명: 보드래 퍼펙트 누빔 매트리스커버, 베이지핑크\n",
      "상품명: 쿠팡 브랜드 - 코멧 홈 40수 순면 누빔 매트리스커버, 챠콜\n",
      "상품명: 바숨 순면 누빔 침대 매트리스커버, 화이트\n",
      "상품명: 프랑떼 항균 방수 매트리스커버, 화이트\n",
      "상품명: 보몽드 순면스퀘어 솔리드 누빔매트커버, 다크블루\n",
      "상품명: 네이쳐리빙 피아블 클래식 방수 매트리스커버, 그레이\n",
      "상품명: 쿠팡 브랜드 - 코멧 홈 순면 매트리스커버, 베이지\n",
      "상품명: 타카타카 프리미엄 나노 화이바 누빔 매트리스 커버, 프렌치불독\n",
      "상품명: 더자리 에코항균 마이크로 매트리스커버, 밀키그레이\n",
      "상품명: 보몽드 순면스퀘어 누빔매트커버, 화이트\n",
      "상품명: 피아블 클래식 방수 매트리스커버, 화이트\n",
      "상품명: 쿠팡 브랜드 - 코멧 홈 순면 매트리스커버, 차콜그레이\n",
      "https://davelee-fun.github.io/page3/\n",
      "상품명: 쉬즈홈 모던그리드 순면 여름이불 베개커버 패드세트, 핑크\n",
      "상품명: 스코홈 빅리플 여름 차렵이불패드 3종 세트, 마린그레이\n",
      "상품명: 아망떼 시어서커 리플 홑이불 패드세트, 웨이크\n",
      "상품명: 마이센스 무더운 여름엔 시어서커 여름이불 패드 베개 이불세트 30종, 시어서커_파스텔그레이\n",
      "상품명: 믹스앤매치 로라 프릴 시어서커 침구세트, 그레이\n",
      "상품명: 에피소드1 샤베트 프릴 시어서커 여름이불패드세트, 그레이\n",
      "상품명: 슈에뜨룸 선인장 리플 침구 세트, 베이지\n",
      "상품명: 아망떼 시어서커 리플 홑이불 패드세트, 허브티\n",
      "상품명: 지베딩 아이스베어 시어서커 여름침구 풀세트, 민트그레이\n",
      "상품명: 쁘리엘르 테스 시어서커 여름이불 패드세트, 그레이\n",
      "상품명: 쉬즈홈 시어서커 홑이불 + 토퍼 + 베개커버 세트, 나나 옐로우\n",
      "상품명: 아망떼 시어서커 리플 퀼팅 이불패드세트, 리엔나\n",
      "https://davelee-fun.github.io/page4/\n",
      "상품명: 바자르 트로피컬 인견 여름 이불세트 인견이불 + 베개커버 2p + 인견패드, 그린\n",
      "상품명: 바자르 라이닝 혼방 인견 여름 이불베개세트 + 패드 Q, 쿨 네이비\n",
      "상품명: 슈에뜨룸 비숑 피치스킨 침구세트, 그레이\n",
      "상품명: 스코홈 시어서커 여름 이불 패드 3종 세트, 차콜\n",
      "상품명: 스코홈 어번시리즈 순면 차렵이불 누빔 매트커버세트 S 차콜\n",
      "상품명: 쉬즈홈 루즈 시어서커 차렵이불 패드세트, 그레이\n",
      "상품명: 예가로드 메리엘 시어서커 누비이불 패드세트, 블루\n",
      "상품명: 에피소드1 샤베트 프릴 시어서커 여름이불패드세트, 화이트\n",
      "상품명: 쉬즈홈 플루 시어서커 차렵이불 패드세트, 그린\n",
      "상품명: 메종 레이스 차렵 이불 세트, 블루\n",
      "상품명: 믹스앤매치 로라 프릴 시어서커 침구세트, 그린\n",
      "상품명: 슈에뜨룸 발그레 피치 리플 침구 세트, 혼합 색상\n",
      "https://davelee-fun.github.io/page5/\n",
      "상품명: 보몽드 메종 레이스 차렵이불 3종 세트, 민트\n",
      "상품명: 슈에뜨룸 체크 피치스킨 침구세트, 모카\n",
      "상품명: 메리엘 시어서커 에어리플 이불세트, 그레이\n",
      "상품명: 슈에뜨룸 빠삐용 시어서커 침구세트, 네이비\n",
      "상품명: 믹스앤매치 에이프릴 리플 누비이불 패드세트, 화이트\n",
      "상품명: 쉬즈홈 시어서커 홑이불 토퍼세트, 루즈 그레이\n",
      "상품명: 이코디 5단 엔틱 도어 행거, 브라운, 1개\n",
      "상품명: 선우랜드 우드볼 도어훅 4구, 실버, 1개\n",
      "상품명: 리은상점 다용도 도어훅 문걸이 행거 모자걸이 머플러 목도리 걸이, 화이트, 5개\n",
      "상품명: 퍼니스코 다용도걸이 모자걸이 가방걸이 도어훅 도어행거 문걸이, 엔틱브라운, 1세트\n",
      "상품명: 스텐 도어후크 옷걸이/도어훅 문옷걸이 행거 바지걸이, 혼합 색상, 1개\n",
      "상품명: 디비플러스 키펙스 컬러 폭조절 오버 도어훅, 블랙, 1개\n"
     ]
    }
   ],
   "source": []
  },
  {
   "cell_type": "markdown",
   "metadata": {},
   "source": [
    "### 2. 이미지 다운로드 받기 with Selenium\n",
    "- urllib 라이브러리의 urlretrieve 함수 활용\n",
    "  - URL (Uniform Resource Location, 자원 위치 지정자) : 일반적으로 브라우저 상단에 쓰는 웹주소을 의미함\n",
    "  - 웹이미지는 일반적으로 URL 을 가짐 (웹페이지에서 이미지 오른쪽 클릭 후, 이미지 링크 복사)\n",
    "  - urlretrueve(URL, 저장할 파일 이름) 으로 특정 이미지 링크를 자신의 PC 에 저장 가능\n",
    "  \n",
    "<div class=\"alert alert-block\" style=\"border: 2px solid #E65100;background-color:#FFF3E0;padding:10px\">\n",
    "<font size=\"4em\" style=\"font-weight:bold;color:#BF360C;\">주의</font><br>\n",
    "<font size=\"4em\" style=\"color:#BF360C;\">파일 저장은 해당 폴더에 파일 쓰기 권한이 있어야 합니다. 따라서, 파일을 쓸 수 없다는등의 에러가 날 경우, 해당 폴더\u001d",
    " 파일 쓰기 권한이 있는지를 꼭 확인해보세요~</font><br> \n",
    "</div>"
   ]
  },
  {
   "cell_type": "markdown",
   "metadata": {},
   "source": [
    "### 참고: 파일 절대 경로와 상대 경로\n",
    "- 절대 경로\n",
    "  -  최초의 시작점으로 경유한 경로를 전부 기입하는 방식\n",
    "  - 윈도우 예: 드라이브명부터 시작, C:\\ 등\n",
    "    ```\n",
    "    C:\\Users\\UserID\\Desktop\\test.txt\n",
    "    ```\n",
    "  - 맥 예: 최상단 디렉토리를 나타내는 / 부터 시작\n",
    "    ```\n",
    "    맥: /Users/davelee/test.txt\n",
    "    ```\n",
    "\n",
    "- 상대 경로\n",
    "  - 파일을 찾는 위치부터 상대적인 경로를 기입하는 방식\n",
    "  - 예\n",
    "    - 현재 폴더가 /Users/davelee/code 인 상태에서 동일 폴더에 있는 testfile.txt 를 찾는 경우\n",
    "      ```\n",
    "      testfile.txt\n",
    "      ```\n",
    "    - 현재 폴더가 /Users/davelee/code 인 상태에서 하위 폴더인 /Users/davelee/code/data 폴더에 있는 testfile.txt 를 찾는 경우\n",
    "      - 현재 폴더 안에 있는 폴더를 하위 폴더라고 함\n",
    "      - 하위 폴더명/파일명 과 같은 형태로 상대 경로를 작성하면 됨\n",
    "      ```\n",
    "      data/testfile.txt\n",
    "      ```\n",
    "    - 현재 폴더가 /Users/davelee/code 인 상태에서 상위 폴더인 /Users/davelee/ 폴더에 있는 testfile.txt 를 찾는 경우\n",
    "      - 현재 폴더를 포함하고 있는 상위에 있는 폴더를 상위 폴더라고 함\n",
    "      - 상위 폴더는 ../ 로 명시할 수 있음\n",
    "      ```\n",
    "      ../testfile.txt\n",
    "      ```\n",
    "      \n",
    "<div class=\"alert alert-block\" style=\"border: 1px solid #FFB300;background-color:#F9FBE7;\">\n",
    "<font size=\"4em\" style=\"font-weight:bold;color:#3f8dbf;\">연습문제</font><br>\n",
    "\n",
    "1. 다음 상황에서 파일 절대 경로와 상대 경로 작성하기<br>\n",
    "\n",
    "   - 현재 폴더: /Users/davelee/code <br>\n",
    "   - 파일 위치: /Users/ <br>\n",
    "   - 파일 명: testfile.txt <br>\n",
    "    \n",
    "<br>\n",
    "\n",
    "2. 다음 상황에서 파일 절대 경로와 상대 경로 작성하기<br>\n",
    "\n",
    "   - 현재 폴더: /Users/davelee/code <br>\n",
    "   - 파일 위치: /Users/davelee/code/program/data <br>\n",
    "   - 파일 명: testfile.txt <br>\n",
    "\n",
    "</div>\n"
   ]
  },
  {
   "cell_type": "code",
   "execution_count": 7,
   "metadata": {},
   "outputs": [
    {
     "name": "stdout",
     "output_type": "stream",
     "text": [
      "['.DS_Store', '102_SCRAPY_CRAWL_ADVANCE.ipynb', '101_SCRAPY_CRAWL_BAISC.ipynb', '103_SCRAPY_CRAWL_MULTIPLE.ipynb', '00_CODES', '105_SCRAPY_CRAWL_SHELL_FINAL_PRACTICE.ipynb', '100_SCRAPY_START.ipynb', '.ipynb_checkpoints', '104_SCRAPY_CRAWL_SELENIUM.ipynb']\n"
     ]
    }
   ],
   "source": [
    "import os\n",
    "\n",
    "# 특정 폴더 경로 설정\n",
    "folder_path = '../02_SCRAPY'\n",
    "\n",
    "# 폴더 내의 파일 및 서브폴더 리스트 가져오기\n",
    "file_list = os.listdir(folder_path)\n",
    "\n",
    "print(file_list)"
   ]
  },
  {
   "cell_type": "markdown",
   "metadata": {},
   "source": [
    "### 이미지 확장자 확인\n",
    "  - 문자열 함수로 확인 가능 (파이썬 입문과 크롤링 부트캠프 강의에서 공유드림)"
   ]
  },
  {
   "cell_type": "code",
   "execution_count": 8,
   "metadata": {},
   "outputs": [
    {
     "data": {
      "text/plain": [
       "'jpg'"
      ]
     },
     "execution_count": 8,
     "metadata": {},
     "output_type": "execute_result"
    }
   ],
   "source": [
    "data = 'https://static.coupangcdn.com/image/retail/images/2018/09/18/11/8/6964dd11-7ff2-448d-8462-db07e3ca2a5f.jpg'\n",
    "data.split(\".\")[-1]"
   ]
  },
  {
   "cell_type": "code",
   "execution_count": 9,
   "metadata": {},
   "outputs": [
    {
     "data": {
      "text/plain": [
       "'IMG/funcoding.jpg'"
      ]
     },
     "execution_count": 9,
     "metadata": {},
     "output_type": "execute_result"
    }
   ],
   "source": [
    "\"IMG/\"+ \"funcoding\" + \".\" + data.split(\".\")[-1]"
   ]
  },
  {
   "cell_type": "markdown",
   "metadata": {},
   "source": [
    "### 이미지 태그와 크롤링\n",
    "- HTML 의 img 태그가 이미지를 표현하는 태그임\n",
    "- img 태그에서 해당 이미지 위치는 src 속성의 값으로 작성됨\n",
    "- 따라서, img 태그 객체를 selenium 으로 가져온 후, src 속성의 값을 가져오면 해당 속성값이 이미지 링크가 됨"
   ]
  },
  {
   "cell_type": "markdown",
   "metadata": {},
   "source": [
    "### Selenium 에서 특정 속성의 속성값 가져오기\n",
    "- CSS Selector 등을 사용해서, 특정 태그의 객체를 가져온 후,\n",
    "- 객체.get_attribute('속성이름') 으로 특정 속성의 속성값을 가져올 수 있음"
   ]
  },
  {
   "cell_type": "markdown",
   "metadata": {},
   "source": [
    "### 이미지 다운 예제\n",
    "- 사전 작업: 현 주피터 노트북이 저장된 폴더의 하부폴더로 IMG 폴더 작성 필요\n",
    "\n",
    "> 이미지 다운로드는 서버에 큰 부하를 주기 때문에, 가볍게만 실행해보세요~"
   ]
  },
  {
   "cell_type": "code",
   "execution_count": 14,
   "metadata": {},
   "outputs": [],
   "source": []
  },
  {
   "cell_type": "markdown",
   "metadata": {},
   "source": [
    "<div class=\"alert alert-block\" style=\"border: 1px solid #455A64;background-color:#ECEFF1;\">\n",
    "본 자료 및 영상 컨텐츠는 저작권법 제25조 2항에 의해 보호를 받습니다. 본 컨텐츠 및 컨텐츠 일부 문구등을 외부에 공개, 게시하는 것을 금지합니다. 특히 자료에 대해서는 저작권법을 엄격하게 적용하겠습니다.\n",
    "</div>"
   ]
  }
 ],
 "metadata": {
  "kernelspec": {
   "display_name": "Python 3 (ipykernel)",
   "language": "python",
   "name": "python3"
  },
  "language_info": {
   "codemirror_mode": {
    "name": "ipython",
    "version": 3
   },
   "file_extension": ".py",
   "mimetype": "text/x-python",
   "name": "python",
   "nbconvert_exporter": "python",
   "pygments_lexer": "ipython3",
   "version": "3.11.5"
  }
 },
 "nbformat": 4,
 "nbformat_minor": 4
}
