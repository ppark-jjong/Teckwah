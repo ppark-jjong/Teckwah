{
 "cells": [
  {
   "cell_type": "markdown",
   "metadata": {},
   "source": [
    "<div class=\"alert alert-block\" style=\"border: 1px solid #455A64;background-color:#ECEFF1;\">\n",
    "본 자료 및 영상 컨텐츠는 저작권법 제25조 2항에 의해 보호를 받습니다. 본 컨텐츠 및 컨텐츠 일부 문구등을 외부에 공개, 게시하는 것을 금지합니다. 특히 자료에 대해서는 저작권법을 엄격하게 적용하겠습니다.\n",
    "</div>"
   ]
  },
  {
   "cell_type": "markdown",
   "metadata": {
    "collapsed": true,
    "jupyter": {
     "outputs_hidden": true
    }
   },
   "source": [
    "## Selenium & Headless Chrome를 활용한 크롤링 이해 및 실습\n",
    " - 브라우저를 제어해서 크롤링을 하는 방법\n",
    "\n",
    "### 1. Selenium \n",
    "- Selenium: 웹을 테스트하기 위한 프레임워크\n",
    "- 공식 홈페이지(http://www.seleniumhq.org/)\n",
    "- Selenium with Python : http://selenium-python.readthedocs.io/index.html\n",
    "\n",
    "### 설치 \n",
    "- Selenium은 웹 애플리케이션 테스트를 위한 도구이며,\n",
    "- WebDriver Manager는 Selenium WebDriver의 바이너리를 자동으로 관리해주는 라이브러리입니다.\n",
    "  - 기존에는 브라우저별 WebDriver 를 직접 다운로드받아야 했습니다.\n",
    "  - 브라우저 버전이 수시로 변경되면서, 수시로 이에 맞는 WebDriver 를 다운받아야 하는 불편함을 개선하여,\n",
    "  - WebDriver Manager 는 알아서 브라우저에 맞는 WebDriver 를 관리해줍니다.\n",
    "- 설치 방법: 주피터 노트북에서 다음과 같이 pip install selenium webdriver_manager 명령어를 실행합니다."
   ]
  },
  {
   "cell_type": "code",
   "execution_count": 1,
   "metadata": {},
   "outputs": [
    {
     "name": "stdout",
     "output_type": "stream",
     "text": [
      "Collecting selenium\n",
      "  Downloading selenium-4.21.0-py3-none-any.whl.metadata (6.9 kB)\n",
      "Collecting webdriver-manager\n",
      "  Downloading webdriver_manager-4.0.1-py2.py3-none-any.whl.metadata (12 kB)\n",
      "Requirement already satisfied: urllib3<3,>=1.26 in c:\\users\\parkjonghyeok\\desktop\\mydownload\\anaconda\\lib\\site-packages (from urllib3[socks]<3,>=1.26->selenium) (2.0.7)\n",
      "Collecting trio~=0.17 (from selenium)\n",
      "  Downloading trio-0.25.1-py3-none-any.whl.metadata (8.7 kB)\n",
      "Collecting trio-websocket~=0.9 (from selenium)\n",
      "  Using cached trio_websocket-0.11.1-py3-none-any.whl.metadata (4.7 kB)\n",
      "Requirement already satisfied: certifi>=2021.10.8 in c:\\users\\parkjonghyeok\\desktop\\mydownload\\anaconda\\lib\\site-packages (from selenium) (2024.2.2)\n",
      "Requirement already satisfied: typing_extensions>=4.9.0 in c:\\users\\parkjonghyeok\\desktop\\mydownload\\anaconda\\lib\\site-packages (from selenium) (4.9.0)\n",
      "Requirement already satisfied: requests in c:\\users\\parkjonghyeok\\desktop\\mydownload\\anaconda\\lib\\site-packages (from webdriver-manager) (2.31.0)\n",
      "Requirement already satisfied: python-dotenv in c:\\users\\parkjonghyeok\\desktop\\mydownload\\anaconda\\lib\\site-packages (from webdriver-manager) (0.21.0)\n",
      "Requirement already satisfied: packaging in c:\\users\\parkjonghyeok\\desktop\\mydownload\\anaconda\\lib\\site-packages (from webdriver-manager) (23.1)\n",
      "Collecting attrs>=23.2.0 (from trio~=0.17->selenium)\n",
      "  Using cached attrs-23.2.0-py3-none-any.whl.metadata (9.5 kB)\n",
      "Requirement already satisfied: sortedcontainers in c:\\users\\parkjonghyeok\\desktop\\mydownload\\anaconda\\lib\\site-packages (from trio~=0.17->selenium) (2.4.0)\n",
      "Requirement already satisfied: idna in c:\\users\\parkjonghyeok\\desktop\\mydownload\\anaconda\\lib\\site-packages (from trio~=0.17->selenium) (3.4)\n",
      "Collecting outcome (from trio~=0.17->selenium)\n",
      "  Using cached outcome-1.3.0.post0-py2.py3-none-any.whl.metadata (2.6 kB)\n",
      "Requirement already satisfied: sniffio>=1.3.0 in c:\\users\\parkjonghyeok\\desktop\\mydownload\\anaconda\\lib\\site-packages (from trio~=0.17->selenium) (1.3.0)\n",
      "Requirement already satisfied: cffi>=1.14 in c:\\users\\parkjonghyeok\\desktop\\mydownload\\anaconda\\lib\\site-packages (from trio~=0.17->selenium) (1.16.0)\n",
      "Collecting wsproto>=0.14 (from trio-websocket~=0.9->selenium)\n",
      "  Using cached wsproto-1.2.0-py3-none-any.whl.metadata (5.6 kB)\n",
      "Requirement already satisfied: pysocks!=1.5.7,<2.0,>=1.5.6 in c:\\users\\parkjonghyeok\\desktop\\mydownload\\anaconda\\lib\\site-packages (from urllib3[socks]<3,>=1.26->selenium) (1.7.1)\n",
      "Requirement already satisfied: charset-normalizer<4,>=2 in c:\\users\\parkjonghyeok\\desktop\\mydownload\\anaconda\\lib\\site-packages (from requests->webdriver-manager) (2.0.4)\n",
      "Requirement already satisfied: pycparser in c:\\users\\parkjonghyeok\\desktop\\mydownload\\anaconda\\lib\\site-packages (from cffi>=1.14->trio~=0.17->selenium) (2.21)\n",
      "Collecting h11<1,>=0.9.0 (from wsproto>=0.14->trio-websocket~=0.9->selenium)\n",
      "  Using cached h11-0.14.0-py3-none-any.whl.metadata (8.2 kB)\n",
      "Downloading selenium-4.21.0-py3-none-any.whl (9.5 MB)\n",
      "   ---------------------------------------- 0.0/9.5 MB ? eta -:--:--\n",
      "   - -------------------------------------- 0.3/9.5 MB 9.6 MB/s eta 0:00:01\n",
      "   --- ------------------------------------ 0.9/9.5 MB 11.0 MB/s eta 0:00:01\n",
      "   ------ --------------------------------- 1.5/9.5 MB 11.6 MB/s eta 0:00:01\n",
      "   -------- ------------------------------- 2.0/9.5 MB 11.7 MB/s eta 0:00:01\n",
      "   ---------- ----------------------------- 2.6/9.5 MB 11.8 MB/s eta 0:00:01\n",
      "   ------------- -------------------------- 3.2/9.5 MB 11.8 MB/s eta 0:00:01\n",
      "   --------------- ------------------------ 3.7/9.5 MB 11.9 MB/s eta 0:00:01\n",
      "   ------------------ --------------------- 4.3/9.5 MB 11.9 MB/s eta 0:00:01\n",
      "   -------------------- ------------------- 4.9/9.5 MB 12.4 MB/s eta 0:00:01\n",
      "   ---------------------- ----------------- 5.4/9.5 MB 12.4 MB/s eta 0:00:01\n",
      "   ------------------------- -------------- 6.0/9.5 MB 12.3 MB/s eta 0:00:01\n",
      "   --------------------------- ------------ 6.5/9.5 MB 12.3 MB/s eta 0:00:01\n",
      "   ------------------------------ --------- 7.1/9.5 MB 12.3 MB/s eta 0:00:01\n",
      "   -------------------------------- ------- 7.7/9.5 MB 12.3 MB/s eta 0:00:01\n",
      "   ---------------------------------- ----- 8.2/9.5 MB 12.3 MB/s eta 0:00:01\n",
      "   ------------------------------------- -- 8.8/9.5 MB 12.3 MB/s eta 0:00:01\n",
      "   ---------------------------------------  9.4/9.5 MB 12.2 MB/s eta 0:00:01\n",
      "   ---------------------------------------- 9.5/9.5 MB 12.1 MB/s eta 0:00:00\n",
      "Downloading webdriver_manager-4.0.1-py2.py3-none-any.whl (27 kB)\n",
      "Downloading trio-0.25.1-py3-none-any.whl (467 kB)\n",
      "   ---------------------------------------- 0.0/467.7 kB ? eta -:--:--\n",
      "   ---------------------------------------- 467.7/467.7 kB 9.7 MB/s eta 0:00:00\n",
      "Using cached trio_websocket-0.11.1-py3-none-any.whl (17 kB)\n",
      "Using cached attrs-23.2.0-py3-none-any.whl (60 kB)\n",
      "Using cached wsproto-1.2.0-py3-none-any.whl (24 kB)\n",
      "Using cached outcome-1.3.0.post0-py2.py3-none-any.whl (10 kB)\n",
      "Using cached h11-0.14.0-py3-none-any.whl (58 kB)\n",
      "Installing collected packages: h11, attrs, wsproto, webdriver-manager, outcome, trio, trio-websocket, selenium\n",
      "  Attempting uninstall: attrs\n",
      "    Found existing installation: attrs 23.1.0\n",
      "    Uninstalling attrs-23.1.0:\n",
      "      Successfully uninstalled attrs-23.1.0\n",
      "Successfully installed attrs-23.2.0 h11-0.14.0 outcome-1.3.0.post0 selenium-4.21.0 trio-0.25.1 trio-websocket-0.11.1 webdriver-manager-4.0.1 wsproto-1.2.0\n"
     ]
    }
   ],
   "source": [
    "!pip install selenium webdriver-manager"
   ]
  },
  {
   "cell_type": "code",
   "execution_count": 3,
   "metadata": {},
   "outputs": [
    {
     "name": "stdout",
     "output_type": "stream",
     "text": [
      "Name: selenium\n",
      "Version: 4.21.0\n",
      "Summary: \n",
      "Home-page: https://www.selenium.dev\n",
      "Author: \n",
      "Author-email: \n",
      "License: Apache 2.0\n",
      "Location: C:\\Users\\ParkJongHyeok\\Desktop\\MyDownload\\anaconda\\Lib\\site-packages\n",
      "Requires: certifi, trio, trio-websocket, typing_extensions, urllib3\n",
      "Required-by: \n",
      "---\n",
      "Name: webdriver-manager\n",
      "Version: 4.0.1\n",
      "Summary: Library provides the way to automatically manage drivers for different browsers\n",
      "Home-page: https://github.com/SergeyPirogov/webdriver_manager\n",
      "Author: Sergey Pirogov\n",
      "Author-email: automationremarks@gmail.com\n",
      "License: \n",
      "Location: C:\\Users\\ParkJongHyeok\\Desktop\\MyDownload\\anaconda\\Lib\\site-packages\n",
      "Requires: packaging, python-dotenv, requests\n",
      "Required-by: \n"
     ]
    }
   ],
   "source": [
    "!pip show selenium webdriver-manager"
   ]
  },
  {
   "cell_type": "markdown",
   "metadata": {},
   "source": [
    "### Selenium 버전 고정 "
   ]
  },
  {
   "cell_type": "code",
   "execution_count": 4,
   "metadata": {},
   "outputs": [
    {
     "name": "stdout",
     "output_type": "stream",
     "text": [
      "Requirement already satisfied: webdriver-manager==4.0.1 in c:\\users\\parkjonghyeok\\desktop\\mydownload\\anaconda\\lib\\site-packages (4.0.1)\n",
      "Requirement already satisfied: requests in c:\\users\\parkjonghyeok\\desktop\\mydownload\\anaconda\\lib\\site-packages (from webdriver-manager==4.0.1) (2.31.0)\n",
      "Requirement already satisfied: python-dotenv in c:\\users\\parkjonghyeok\\desktop\\mydownload\\anaconda\\lib\\site-packages (from webdriver-manager==4.0.1) (0.21.0)\n",
      "Requirement already satisfied: packaging in c:\\users\\parkjonghyeok\\desktop\\mydownload\\anaconda\\lib\\site-packages (from webdriver-manager==4.0.1) (23.1)\n",
      "Requirement already satisfied: charset-normalizer<4,>=2 in c:\\users\\parkjonghyeok\\desktop\\mydownload\\anaconda\\lib\\site-packages (from requests->webdriver-manager==4.0.1) (2.0.4)\n",
      "Requirement already satisfied: idna<4,>=2.5 in c:\\users\\parkjonghyeok\\desktop\\mydownload\\anaconda\\lib\\site-packages (from requests->webdriver-manager==4.0.1) (3.4)\n",
      "Requirement already satisfied: urllib3<3,>=1.21.1 in c:\\users\\parkjonghyeok\\desktop\\mydownload\\anaconda\\lib\\site-packages (from requests->webdriver-manager==4.0.1) (2.0.7)\n",
      "Requirement already satisfied: certifi>=2017.4.17 in c:\\users\\parkjonghyeok\\desktop\\mydownload\\anaconda\\lib\\site-packages (from requests->webdriver-manager==4.0.1) (2024.2.2)\n"
     ]
    }
   ],
   "source": [
    "!pip install webdriver-manager==4.0.1"
   ]
  },
  {
   "cell_type": "code",
   "execution_count": 5,
   "metadata": {},
   "outputs": [
    {
     "name": "stdout",
     "output_type": "stream",
     "text": [
      "Collecting selenium==4.18.1\n",
      "  Downloading selenium-4.18.1-py3-none-any.whl.metadata (6.9 kB)\n",
      "Requirement already satisfied: urllib3<3,>=1.26 in c:\\users\\parkjonghyeok\\desktop\\mydownload\\anaconda\\lib\\site-packages (from urllib3[socks]<3,>=1.26->selenium==4.18.1) (2.0.7)\n",
      "Requirement already satisfied: trio~=0.17 in c:\\users\\parkjonghyeok\\desktop\\mydownload\\anaconda\\lib\\site-packages (from selenium==4.18.1) (0.25.1)\n",
      "Requirement already satisfied: trio-websocket~=0.9 in c:\\users\\parkjonghyeok\\desktop\\mydownload\\anaconda\\lib\\site-packages (from selenium==4.18.1) (0.11.1)\n",
      "Requirement already satisfied: certifi>=2021.10.8 in c:\\users\\parkjonghyeok\\desktop\\mydownload\\anaconda\\lib\\site-packages (from selenium==4.18.1) (2024.2.2)\n",
      "Requirement already satisfied: typing_extensions>=4.9.0 in c:\\users\\parkjonghyeok\\desktop\\mydownload\\anaconda\\lib\\site-packages (from selenium==4.18.1) (4.9.0)\n",
      "Requirement already satisfied: attrs>=23.2.0 in c:\\users\\parkjonghyeok\\desktop\\mydownload\\anaconda\\lib\\site-packages (from trio~=0.17->selenium==4.18.1) (23.2.0)\n",
      "Requirement already satisfied: sortedcontainers in c:\\users\\parkjonghyeok\\desktop\\mydownload\\anaconda\\lib\\site-packages (from trio~=0.17->selenium==4.18.1) (2.4.0)\n",
      "Requirement already satisfied: idna in c:\\users\\parkjonghyeok\\desktop\\mydownload\\anaconda\\lib\\site-packages (from trio~=0.17->selenium==4.18.1) (3.4)\n",
      "Requirement already satisfied: outcome in c:\\users\\parkjonghyeok\\desktop\\mydownload\\anaconda\\lib\\site-packages (from trio~=0.17->selenium==4.18.1) (1.3.0.post0)\n",
      "Requirement already satisfied: sniffio>=1.3.0 in c:\\users\\parkjonghyeok\\desktop\\mydownload\\anaconda\\lib\\site-packages (from trio~=0.17->selenium==4.18.1) (1.3.0)\n",
      "Requirement already satisfied: cffi>=1.14 in c:\\users\\parkjonghyeok\\desktop\\mydownload\\anaconda\\lib\\site-packages (from trio~=0.17->selenium==4.18.1) (1.16.0)\n",
      "Requirement already satisfied: wsproto>=0.14 in c:\\users\\parkjonghyeok\\desktop\\mydownload\\anaconda\\lib\\site-packages (from trio-websocket~=0.9->selenium==4.18.1) (1.2.0)\n",
      "Requirement already satisfied: pysocks!=1.5.7,<2.0,>=1.5.6 in c:\\users\\parkjonghyeok\\desktop\\mydownload\\anaconda\\lib\\site-packages (from urllib3[socks]<3,>=1.26->selenium==4.18.1) (1.7.1)\n",
      "Requirement already satisfied: pycparser in c:\\users\\parkjonghyeok\\desktop\\mydownload\\anaconda\\lib\\site-packages (from cffi>=1.14->trio~=0.17->selenium==4.18.1) (2.21)\n",
      "Requirement already satisfied: h11<1,>=0.9.0 in c:\\users\\parkjonghyeok\\desktop\\mydownload\\anaconda\\lib\\site-packages (from wsproto>=0.14->trio-websocket~=0.9->selenium==4.18.1) (0.14.0)\n",
      "Downloading selenium-4.18.1-py3-none-any.whl (10.0 MB)\n",
      "   ---------------------------------------- 0.0/10.0 MB ? eta -:--:--\n",
      "   ---------------------------------------- 0.0/10.0 MB ? eta -:--:--\n",
      "   - -------------------------------------- 0.3/10.0 MB 4.2 MB/s eta 0:00:03\n",
      "   --- ------------------------------------ 0.8/10.0 MB 7.6 MB/s eta 0:00:02\n",
      "   ----- ---------------------------------- 1.4/10.0 MB 9.0 MB/s eta 0:00:01\n",
      "   ------- -------------------------------- 2.0/10.0 MB 9.6 MB/s eta 0:00:01\n",
      "   ---------- ----------------------------- 2.5/10.0 MB 10.8 MB/s eta 0:00:01\n",
      "   ------------ --------------------------- 3.1/10.0 MB 10.9 MB/s eta 0:00:01\n",
      "   -------------- ------------------------- 3.6/10.0 MB 11.0 MB/s eta 0:00:01\n",
      "   ---------------- ----------------------- 4.1/10.0 MB 11.0 MB/s eta 0:00:01\n",
      "   ------------------ --------------------- 4.6/10.0 MB 10.9 MB/s eta 0:00:01\n",
      "   -------------------- ------------------- 5.1/10.0 MB 10.8 MB/s eta 0:00:01\n",
      "   --------------------- ------------------ 5.3/10.0 MB 10.2 MB/s eta 0:00:01\n",
      "   ---------------------- ----------------- 5.7/10.0 MB 10.2 MB/s eta 0:00:01\n",
      "   ------------------------- -------------- 6.3/10.0 MB 10.3 MB/s eta 0:00:01\n",
      "   --------------------------- ------------ 6.8/10.0 MB 10.4 MB/s eta 0:00:01\n",
      "   ----------------------------- ---------- 7.4/10.0 MB 10.5 MB/s eta 0:00:01\n",
      "   ------------------------------- -------- 8.0/10.0 MB 10.6 MB/s eta 0:00:01\n",
      "   ---------------------------------- ----- 8.6/10.0 MB 10.8 MB/s eta 0:00:01\n",
      "   ------------------------------------ --- 9.2/10.0 MB 10.8 MB/s eta 0:00:01\n",
      "   -------------------------------------- - 9.7/10.0 MB 10.9 MB/s eta 0:00:01\n",
      "   ---------------------------------------- 10.0/10.0 MB 10.8 MB/s eta 0:00:00\n",
      "Installing collected packages: selenium\n",
      "  Attempting uninstall: selenium\n",
      "    Found existing installation: selenium 4.21.0\n",
      "    Uninstalling selenium-4.21.0:\n",
      "      Successfully uninstalled selenium-4.21.0\n",
      "Successfully installed selenium-4.18.1\n"
     ]
    }
   ],
   "source": [
    "!pip install selenium==4.18.1"
   ]
  },
  {
   "cell_type": "markdown",
   "metadata": {},
   "source": [
    "### Selenium 기본 코드\n",
    "\n",
    "1. **Selenium 드라이버 로드**\n",
    "   - `from selenium import webdriver`를 사용하여 필요한 모듈을 임포트합니다.\n",
    "   - `webdriver.Chrome()`를 호출하여 Chrome 브라우저를 위한 WebDriver를 설치하고, 드라이버 인스턴스를 생성합니다.\n",
    "\n",
    "2. **크롤링할 사이트 호출**\n",
    "   - `driver.get(\"https://davelee-fun.github.io/\")` 명령을 사용하여 크롤링하고자 하는 웹사이트를 엽니다. 이 예제에서는 `\"https://davelee-fun.github.io/\"` 사이트를 열고 있습니다.\n",
    "\n",
    "3. **페이지 로딩 대기**\n",
    "   - `time.sleep(1)` 명령으로 1초 동안 대기합니다. 이는 페이지의 모든 요소가 로드될 시간을 주기 위함입니다. 실제 상황에서는 페이지 로드 시간에 따라 대기 시간을 조정할 필요가 있습니다.\n",
    "\n",
    "4. **브라우저 종료**\n",
    "   - `driver.quit()` 명령으로 브라우저 인스턴스를 종료합니다. 이 단계는 모든 작업이 끝난 후 리소스를 정리하기 위해 필요합니다."
   ]
  },
  {
   "cell_type": "code",
   "execution_count": 1,
   "metadata": {},
   "outputs": [],
   "source": [
    "from selenium import webdriver\n",
    "import time\n",
    "\n",
    "driver = webdriver.Chrome()\n",
    "driver.get(\"https://davelee-fun.github.io/\")\n",
    "\n",
    "time.sleep(1)\n",
    "\n",
    "driver.quit()"
   ]
  },
  {
   "cell_type": "markdown",
   "metadata": {},
   "source": [
    "### 에러 발생시\n",
    "- 에러 예: AttributeError: 'str' object has no attribute 'capabilities'\n",
    "- selenium 과 webdriver-manager 버전 확인\n",
    "- 다음 코드로 테스트\n",
    "\n",
    "```python\n",
    "from selenium import webdriver\n",
    "from webdriver_manager.chrome import ChromeDriverManager\n",
    "import time\n",
    "\n",
    "import platform\n",
    "if platform.system().lower() == \"windows\":\n",
    "    driver = webdriver.Chrome() # 윈도우\n",
    "else:\n",
    "    print(1)\n",
    "    driver = webdriver.Chrome(ChromeDriverManager().install()) # 맥 또는 다른 환경\n",
    "  \n",
    "driver.get(\"https://davelee-fun.github.io/\")\n",
    "\n",
    "time.sleep(1)\n",
    "\n",
    "driver.quit()\n",
    "```"
   ]
  },
  {
   "cell_type": "markdown",
   "metadata": {},
   "source": [
    "### 코드로 이해하는 Selenium 사용법: 웹페이지 기본 정보\n",
    "  - 사이트 주소: driver.current_url\n",
    "  - 사이트 타이틀: driver.title"
   ]
  },
  {
   "cell_type": "code",
   "execution_count": 7,
   "metadata": {},
   "outputs": [
    {
     "name": "stdout",
     "output_type": "stream",
     "text": [
      "Home | Teddy의 선물 블로그\n",
      "https://davelee-fun.github.io/\n"
     ]
    }
   ],
   "source": [
    "from selenium import webdriver\n",
    "\n",
    "driver = webdriver.Chrome()\n",
    "# 웹 페이지로 이동\n",
    "driver.get(\"https://davelee-fun.github.io/\")\n",
    "\n",
    "print (driver.title) # 웹 페이지의 타이틀 출력\n",
    "print (driver.current_url) # 웹 페이지의 URL 주소 출력\n",
    "\n",
    "# 웹 페이지의 타이틀이 특정 문자열을 포함하는지 확인 (Selenium 을 웹테스트용으로 사용시 많이 사용하는 구문)\n",
    "assert \"Teddy\" in driver.title\n",
    "\n",
    "# 드라이버 종료\n",
    "driver.quit()"
   ]
  },
  {
   "cell_type": "markdown",
   "metadata": {},
   "source": [
    "### 코드로 이해하는 Selenium 사용법: By.TAG_NAME \n",
    "\n",
    "- Selenium을 사용하여 웹 페이지의 특정 요소를 태그 이름으로 선택하고 싶을 때는 `By.TAG_NAME` 를 활용할 수 있음\n",
    "\n",
    "- **핵심 문법**: `find_element(By.TAG_NAME, \"태그명\")`\n",
    "  - 웹 드라이버(`driver`)를 통해 특정 웹 페이지의 HTML 코드에 접근한 상태라고 가정(예: `driver.get(\"웹페이지_주소\")`)\n",
    "  - `driver.find_element(By.TAG_NAME, \"태그명\")`을 사용하면, 해당 태그명(`태그명`)을 가진 첫 번째 요소를 찾을 수 있슴\n",
    "    - 만약 같은 태그명을 가진 여러 요소가 있다면, 첫 번째 요소만 선택됨\n",
    "    - 동일 태그를 가진 여러 요소를 모두 가져오려면, `driver.find_elements(By.TAG_NAME, \"태그명\")` 사용\n",
    "  - 찾아진 요소는 변수에 할당될 수 있슴 (예: element = driver.find_element(By.TAG_NAME, \"h1\"))\n",
    "    - 해당 요소의 텍스트는 text 속성값으로 얻을 수 있음 (예: element.text)\n",
    "    \n",
    "> `<h1>안녕하세요</h1>` 의 태그로 구성된 데이터를 요소라고도 칭함"
   ]
  },
  {
   "cell_type": "code",
   "execution_count": 8,
   "metadata": {},
   "outputs": [
    {
     "name": "stdout",
     "output_type": "stream",
     "text": [
      "Teddy의 선물 블로그\n"
     ]
    }
   ],
   "source": [
    "from selenium import webdriver\n",
    "from selenium.webdriver.common.by import By # 태그명(By.TAG_NAME) 사용을 위한 필수 import 문\n",
    "\n",
    "driver = webdriver.Chrome()    \n",
    "driver.get(\"https://davelee-fun.github.io/\") # 원하는 웹 페이지 로드\n",
    "\n",
    "# 웹 페이지에서 <h1> 태그를 가진 요소 선택\n",
    "element = driver.find_element(By.TAG_NAME, \"h1\")\n",
    "\n",
    "# 선택한 요소의 텍스트 내용 출력\n",
    "print(element.text) # <h1> 태그 내부의 텍스트가 출력됨\n",
    "\n",
    "# 드라이버 종료 및 브라우저 닫기\n",
    "driver.quit()"
   ]
  },
  {
   "cell_type": "code",
   "execution_count": 28,
   "metadata": {
    "scrolled": true
   },
   "outputs": [
    {
     "name": "stdout",
     "output_type": "stream",
     "text": [
      "상품명: 보몽드 순면스퀘어 솔리드 누빔매트커버, 다크블루\n",
      "상품명: 슈에뜨룸 선인장 리플 침구 세트, 베이지\n",
      "상품명: 선우랜드 레인보우 2단 문걸이용 옷걸이 _중형, 화이트, 상세페이지참조\n",
      "상품명: 보드래 헬로우 누빔 매트리스커버, 핑크\n",
      "상품명: 보드래 퍼펙트 누빔 매트리스커버, 차콜\n",
      "상품명: 피아블 클래식 방수 매트리스커버, 화이트\n",
      "상품명: 더자리 에코항균 마이크로 매트리스커버, 밀키차콜그레이\n",
      "상품명: 더자리 프레쉬 퓨어 매트리스 커버, 퓨어 차콜그레이\n",
      "상품명: 몽쉐어 알러스킨 항균 매트리스 커버, 카키그레이\n",
      "상품명: 쿠팡 브랜드 - 코멧 홈 40수 트윌 순면 100% 홑겹 매트리스커버, 그레이\n",
      "상품명: 패브릭아트 항균 마이크로 원단 매트리스 커버, 아이보리\n",
      "상품명: 바숨 순면 누빔 침대 매트리스커버, 차콜\n",
      "상품명: WEMAX 다용도 문옷걸이, 화이트, 1개\n",
      "상품명: 타카타카 프리미엄 나노 화이바 누빔 매트리스 커버, 젠틀핑핑\n",
      "상품명: 보몽드 순면스퀘어 누빔매트커버, 다크그레이\n",
      "상품명: 보드래 국내산 순면 60수 누빔 매트리스커버, 그레이\n"
     ]
    }
   ],
   "source": [
    "from selenium import webdriver\n",
    "from selenium.webdriver.common.by import By # 태그명(By.TAG_NAME) 사용을 위한 필수 import 문\n",
    "\n",
    "driver = webdriver.Chrome()    \n",
    "driver.get(\"https://davelee-fun.github.io/\") # 원하는 웹 페이지 로드\n",
    "\n",
    "# 웹 페이지에서 <h1> 태그를 가진 모든 요소 선택 (리스트 화)\n",
    "elements = driver.find_elements(By.TAG_NAME, \"h4\")\n",
    "\n",
    "# find_elements() 는 모든 요소를 가져오므로, 반복문을 사용해서 각 객체.text 로 텍스트 추출 가능\n",
    "for element in elements:\n",
    "    print (element.text)\n",
    "\n",
    "# 드라이버 종료 및 브라우저 닫기\n",
    "driver.quit()"
   ]
  },
  {
   "cell_type": "markdown",
   "metadata": {},
   "source": [
    "### 코드로 이해하는 Selenium 사용법: By.ID\n",
    "\n",
    "- Selenium을 사용하여 웹 페이지의 특정 요소를 id 이름으로 선택하고 싶을 때는 `By.ID` 를 활용할 수 있음\n",
    "- 주요 사용법\n",
    "  - find_element(By.ID, \"id이름\"): 최초 발견한 해당 아이디를 가진 요소만 가져오기\n",
    "  - find_elements(By.ID, \"id이름\"): 해당 아이디를 가진 모든 요소를 리스트로 가져오기"
   ]
  },
  {
   "cell_type": "code",
   "execution_count": 29,
   "metadata": {
    "scrolled": true
   },
   "outputs": [
    {
     "name": "stdout",
     "output_type": "stream",
     "text": [
      "Blog\n",
      "About\n",
      "Blog\n",
      "About\n"
     ]
    }
   ],
   "source": [
    "from selenium import webdriver\n",
    "from selenium.webdriver.common.by import By # 태그명(By.TAG_NAME) 사용을 위한 필수 import 문\n",
    "\n",
    "driver = webdriver.Chrome()    \n",
    "driver.get(\"https://davelee-fun.github.io/\") # 원하는 웹 페이지 로드\n",
    "\n",
    "element = driver.find_element(By.ID, \"navbarMediumish\")\n",
    "print(element.text) \n",
    "\n",
    "elements = driver.find_elements(By.ID, \"navbarMediumish\")\n",
    "for element in elements:\n",
    "    print (element.text)\n",
    "\n",
    "# 드라이버 종료 및 브라우저 닫기\n",
    "driver.quit()"
   ]
  },
  {
   "cell_type": "markdown",
   "metadata": {},
   "source": [
    "### 코드로 이해하는 Selenium 사용법: By.CSS_SELECTOR\n",
    "\n",
    "- Selenium을 사용하여 웹 페이지의 특정 요소를 css selector 로 선택하고 싶을 때는 `By.CSS_SELECTOR` 를 활용할 수 있음\n",
    "- 주요 사용법\n",
    "  - find_element(By.CSS_SELECTOR, \"css selector 이름\"): 최초 발견한 해당 css selector 를 가진 요소만 가져오기\n",
    "  - find_elements(By.CSS_SELECTOR, \"css selector 이름\"): 해당 css selector 를 가진 모든 요소를 리스트로 가져오기"
   ]
  },
  {
   "cell_type": "code",
   "execution_count": 12,
   "metadata": {
    "scrolled": true
   },
   "outputs": [
    {
     "name": "stdout",
     "output_type": "stream",
     "text": [
      "상품명: 보몽드 순면스퀘어 솔리드 누빔매트커버, 다크블루\n",
      "\n",
      "상품명: 보몽드 순면스퀘어 솔리드 누빔매트커버, 다크블루\n",
      "상품명: 슈에뜨룸 선인장 리플 침구 세트, 베이지\n",
      "상품명: 선우랜드 레인보우 2단 문걸이용 옷걸이 _중형, 화이트, 상세페이지참조\n",
      "상품명: 보드래 헬로우 누빔 매트리스커버, 핑크\n",
      "상품명: 보드래 퍼펙트 누빔 매트리스커버, 차콜\n",
      "상품명: 피아블 클래식 방수 매트리스커버, 화이트\n",
      "상품명: 더자리 에코항균 마이크로 매트리스커버, 밀키차콜그레이\n",
      "상품명: 더자리 프레쉬 퓨어 매트리스 커버, 퓨어 차콜그레이\n",
      "상품명: 몽쉐어 알러스킨 항균 매트리스 커버, 카키그레이\n",
      "상품명: 쿠팡 브랜드 - 코멧 홈 40수 트윌 순면 100% 홑겹 매트리스커버, 그레이\n",
      "상품명: 패브릭아트 항균 마이크로 원단 매트리스 커버, 아이보리\n",
      "상품명: 바숨 순면 누빔 침대 매트리스커버, 차콜\n",
      "상품명: WEMAX 다용도 문옷걸이, 화이트, 1개\n",
      "상품명: 타카타카 프리미엄 나노 화이바 누빔 매트리스 커버, 젠틀핑핑\n",
      "상품명: 보몽드 순면스퀘어 누빔매트커버, 다크그레이\n",
      "상품명: 보드래 국내산 순면 60수 누빔 매트리스커버, 그레이\n"
     ]
    }
   ],
   "source": [
    "from selenium import webdriver\n",
    "from selenium.webdriver.common.by import By # 태그명(By.TAG_NAME) 사용을 위한 필수 import 문\n",
    "\n",
    "driver = webdriver.Chrome()    \n",
    "driver.get(\"https://davelee-fun.github.io/\") # 원하는 웹 페이지 로드\n",
    "\n",
    "element = driver.find_element(By.CSS_SELECTOR, \"div.card-body > h4\")\n",
    "print(element.text) \n",
    "\n",
    "print() # 한 라인 띄우기\n",
    "\n",
    "elements = driver.find_elements(By.CSS_SELECTOR, \"div.card-body > h4\")\n",
    "for element in elements:\n",
    "    print (element.text)\n",
    "\n",
    "driver.quit()"
   ]
  },
  {
   "cell_type": "markdown",
   "metadata": {},
   "source": [
    "### 코드로 이해하는 Selenium 사용법: get_attribute(\"속성명\")\n",
    "- get_attribute(\"속성명\"): 속성값을 가져올 수 있음\n",
    "  - 요소의 텍스트도 get_attribute('text') 로 가져올 수 있음 (요소의 텍스트의 속성명을 text 로 처리함)\n",
    "    - 참고: head 태그의 title 은 get_attribute('text') 또는 driver.title 로만 추출 가능 (element.text 로는 가져올 수 없슴)\n",
    "    - body 태그 내의 다양한 태그는 text 또는 get_attribute('text') 로 추출 가능"
   ]
  },
  {
   "cell_type": "code",
   "execution_count": 34,
   "metadata": {
    "scrolled": true
   },
   "outputs": [
    {
     "name": "stdout",
     "output_type": "stream",
     "text": [
      "text: \n",
      "get_attribute: Home | Teddy의 선물 블로그\n",
      "driver.title: Home | Teddy의 선물 블로그\n",
      "\n",
      "text: 매트리스커버 관련 상품 추천\n",
      "get_attribute('text'): 매트리스커버 관련 상품 추천\n",
      "get_attribute('class'): text-dark\n",
      "driver.href: https://davelee-fun.github.io/product-83/\n",
      "\n",
      "text: 매트리스커버 관련 상품 추천\n",
      "get_attribute('text'): 매트리스커버 관련 상품 추천\n",
      "get_attribute('class'): text-dark\n",
      "driver.href: https://davelee-fun.github.io/product-83/\n",
      "text: 여름이불세트 관련 상품 추천\n",
      "get_attribute('text'): 여름이불세트 관련 상품 추천\n",
      "get_attribute('class'): text-dark\n",
      "driver.href: https://davelee-fun.github.io/product-69/\n",
      "text: 행거도어 관련 상품 추천\n",
      "get_attribute('text'): 행거도어 관련 상품 추천\n",
      "get_attribute('class'): text-dark\n",
      "driver.href: https://davelee-fun.github.io/product-20/\n",
      "text: 매트리스커버 관련 상품 추천\n",
      "get_attribute('text'): 매트리스커버 관련 상품 추천\n",
      "get_attribute('class'): text-dark\n",
      "driver.href: https://davelee-fun.github.io/product-105/\n",
      "text: 매트리스커버 관련 상품 추천\n",
      "get_attribute('text'): 매트리스커버 관련 상품 추천\n",
      "get_attribute('class'): text-dark\n",
      "driver.href: https://davelee-fun.github.io/product-99/\n",
      "text: 매트리스커버 관련 상품 추천\n",
      "get_attribute('text'): 매트리스커버 관련 상품 추천\n",
      "get_attribute('class'): text-dark\n",
      "driver.href: https://davelee-fun.github.io/product-98/\n",
      "text: 매트리스커버 관련 상품 추천\n",
      "get_attribute('text'): 매트리스커버 관련 상품 추천\n",
      "get_attribute('class'): text-dark\n",
      "driver.href: https://davelee-fun.github.io/product-97/\n",
      "text: 매트리스커버 관련 상품 추천\n",
      "get_attribute('text'): 매트리스커버 관련 상품 추천\n",
      "get_attribute('class'): text-dark\n",
      "driver.href: https://davelee-fun.github.io/product-96/\n",
      "text: 매트리스커버 관련 상품 추천\n",
      "get_attribute('text'): 매트리스커버 관련 상품 추천\n",
      "get_attribute('class'): text-dark\n",
      "driver.href: https://davelee-fun.github.io/product-95/\n",
      "text: 매트리스커버 관련 상품 추천\n",
      "get_attribute('text'): 매트리스커버 관련 상품 추천\n",
      "get_attribute('class'): text-dark\n",
      "driver.href: https://davelee-fun.github.io/product-94/\n",
      "text: 매트리스커버 관련 상품 추천\n",
      "get_attribute('text'): 매트리스커버 관련 상품 추천\n",
      "get_attribute('class'): text-dark\n",
      "driver.href: https://davelee-fun.github.io/product-93/\n",
      "text: 매트리스커버 관련 상품 추천\n",
      "get_attribute('text'): 매트리스커버 관련 상품 추천\n",
      "get_attribute('class'): text-dark\n",
      "driver.href: https://davelee-fun.github.io/product-92/\n",
      "text: 행거도어 관련 상품 추천\n",
      "get_attribute('text'): 행거도어 관련 상품 추천\n",
      "get_attribute('class'): text-dark\n",
      "driver.href: https://davelee-fun.github.io/product-91/\n",
      "text: 매트리스커버 관련 상품 추천\n",
      "get_attribute('text'): 매트리스커버 관련 상품 추천\n",
      "get_attribute('class'): text-dark\n",
      "driver.href: https://davelee-fun.github.io/product-90/\n",
      "text: 매트리스커버 관련 상품 추천\n",
      "get_attribute('text'): 매트리스커버 관련 상품 추천\n",
      "get_attribute('class'): text-dark\n",
      "driver.href: https://davelee-fun.github.io/product-89/\n",
      "text: 매트리스커버 관련 상품 추천\n",
      "get_attribute('text'): 매트리스커버 관련 상품 추천\n",
      "get_attribute('class'): text-dark\n",
      "driver.href: https://davelee-fun.github.io/product-88/\n"
     ]
    }
   ],
   "source": [
    "from selenium import webdriver\n",
    "from selenium.webdriver.common.by import By # 태그명(By.TAG_NAME) 사용을 위한 필수 import 문\n",
    "\n",
    "driver = webdriver.Chrome()\n",
    "    \n",
    "driver.get(\"https://davelee-fun.github.io/\") # 원하는 웹 페이지 로드\n",
    "\n",
    "element = driver.find_element(By.CSS_SELECTOR, \"title\")\n",
    "\n",
    "print ('text:', element.text) # head 의 title 태그는 text 로는 텍스트 추출이 안됨\n",
    "print ('get_attribute:', element.get_attribute('text'))\n",
    "print ('driver.title:', driver.title)\n",
    "\n",
    "print() # 한 라인 띄우기\n",
    "\n",
    "element = driver.find_element(By.CSS_SELECTOR, \"a.text-dark\")\n",
    "\n",
    "print ('text:', element.text) # head 의 title 태그는 text 로는 텍스트 추출이 안됨\n",
    "print ('get_attribute(\\'text\\'):', element.get_attribute('text'))\n",
    "print ('get_attribute(\\'class\\'):', element.get_attribute('class'))\n",
    "print ('driver.href:', element.get_attribute('href'))\n",
    "\n",
    "print() # 한 라인 띄우기\n",
    "\n",
    "elements = driver.find_elements(By.CSS_SELECTOR, \"a.text-dark\")\n",
    "for element in elements:\n",
    "    print ('text:', element.text) # head 의 title 태그는 text 로는 텍스트 추출이 안됨\n",
    "    print ('get_attribute(\\'text\\'):', element.get_attribute('text'))\n",
    "    print ('get_attribute(\\'class\\'):', element.get_attribute('class'))\n",
    "    print ('driver.href:', element.get_attribute('href'))\n",
    "\n",
    "driver.quit()"
   ]
  },
  {
   "cell_type": "markdown",
   "metadata": {},
   "source": [
    "### 코드로 이해하는 Selenium 사용법: 스크롤\n",
    "\n",
    "> Selenium을 사용하여 웹 페이지 특정 요소를 컨트롤하고자 할 때는 해당 화면까지 스크롤이 필요함\n",
    "> 이 때는 자바스크립트 코드를 실행하는 `driver.execute_script()` 메서드를 통해 javascript 로 브라우저를 제어해야 함\n",
    "\n",
    "- **특정 높이까지 스크롤하기**: `driver.execute_script(\"window.scrollTo(0, Y)\")`\n",
    "  - 이때 `Y`에는 스크롤하고 싶은 높이를 정수로 입력함 (예: 100, 200 등)\n",
    "  - 높이는 페이지 시작부터 원하는 위치까지의 픽셀 수로, 원하는 데이터가 어디에 위치해 있는지에 따라 조정해야 함\n",
    "\n",
    "- **페이지 끝까지 스크롤하기**: `driver.execute_script(\"window.scrollTo(0, document.body.scrollHeight)\")`\n",
    "  - `document.body.scrollHeight`는 페이지의 총 높이를 나타내므로, 이 값을 사용하면 페이지의 가장 아래까지 스크롤 가능함\n"
   ]
  },
  {
   "cell_type": "code",
   "execution_count": 2,
   "metadata": {},
   "outputs": [],
   "source": [
    "from selenium import webdriver\n",
    "import time \n",
    "\n",
    "driver = webdriver.Chrome()    \n",
    "driver.get(\"https://davelee-fun.github.io/\")\n",
    "\n",
    "# 특정 높이까지 스크롤도 가능함\n",
    "\n",
    "driver.execute_script(\"window.scrollTo(0, document.body.scrollHeight)\") \n",
    "\n",
    "time.sleep(3)\n",
    "\n",
    "driver.quit()"
   ]
  },
  {
   "cell_type": "markdown",
   "metadata": {},
   "source": [
    "### 코드로 이해하는 Selenium 사용법: 입력\n",
    "\n",
    "> HTML 코드에서 입력 태그는 보통 `<input name=\"search\" />` 와 같이 input 태그와 name 속성값으로 정의하며, <br>\n",
    "> 사용자는 해당 요소에 입력을 키보드로 타이핑한 후, 엔터키등을 눌러서 입력을 넣음 <br>\n",
    "> 따라서, name 으로 요소를 선택하는 방법, 입력값을 넣는 방법, 엔터키를 입력하는 방법을 정리해야 함\n",
    "\n",
    "- **name 속성으로 요소 선택하기**: `find_element(By.NAME, \"속성값\")`\n",
    "  - `By.NAME`을 사용하면, `name` 속성 값이 `속성값`과 일치하는 `<input>` 요소를 찾을 수 있음\n",
    "  - 예: `driver.find_element(By.NAME, \"search\")`는 `name=\"search\"` 속성을 가진 `<input>` 요소를 찾음\n",
    "  \n",
    "  > 웹페이지에는 여러 입력창이 있는 경우가 많으므로 (예: ID 와 비밀번호 입력창), 이 중 특정 입력창을 선택하기 위해서 name 속성으로 선택\n",
    "\n",
    "- **입력값 초기화**: `element.clear()`\n",
    "  - 선택한 입력창에 입력값을 넣기 위해서는 먼저 입력창의 디폴트값등을 삭제하기도 함 \n",
    "\n",
    "- **입력값 넣기**: `element.send_keys(\"입력값\")`\n",
    "  - 선택한 `<input>` 요소에 텍스트 입력을 위해 `send_keys()` 메서드를 사용함\n",
    "  - 예: `element.send_keys(\"검색어\")`는 찾은 `<input>` 요소에 \"검색어\"를 타이핑함\n",
    "\n",
    "- **엔터키 입력하기**: `element.send_keys(Keys.ENTER)`\n",
    "  - 텍스트 입력 후 엔터키를 눌러서 폼 제출 등의 동작을 수행하고 싶을 때, `Keys.ENTER`를 `send_keys()` 메서드와 함께 사용함\n",
    "  - `Keys`를 사용하기 위해서는 `from selenium.webdriver.common.keys import Keys`를 import해야 함"
   ]
  },
  {
   "cell_type": "code",
   "execution_count": 32,
   "metadata": {},
   "outputs": [],
   "source": [
    "from selenium import webdriver\n",
    "from selenium.webdriver.common.by import By\n",
    "from selenium.webdriver.common.keys import Keys\n",
    "\n",
    "driver = webdriver.Chrome()    \n",
    "driver.get(\"https://davelee-fun.github.io/\")\n",
    "\n",
    "# 입력 태그가 하단부에 위치하므로 스크롤이 필요함\n",
    "driver.execute_script(\"window.scrollTo(0, document.body.scrollHeight)\") \n",
    "\n",
    "# 태그의 속성 중  name 속성값으로 특정한 태그를 찾을 수 있음\n",
    "element = driver.find_element(By.NAME, \"EMAIL\")\n",
    "\n",
    "# 해당 input 태그에 씌여진 값을 초기화함\n",
    "element.clear()\n",
    "\n",
    "# 태그가 input 태그이므로 element 객체에 send_keys() 로 입력값을 넣을 수 있슴\n",
    "element.send_keys(\"error@error.com\")\n",
    "\n",
    "# 명시적으로 일정시간을 기다릴 수 있음 (3초 기다림)\n",
    "time.sleep(3)\n",
    "\n",
    "# 엔터 입력\n",
    "element.send_keys(Keys.RETURN)\n",
    "\n",
    "# 명시적으로 일정시간을 기다릴 수 있음 (3초 기다림)\n",
    "time.sleep(3)\n",
    "\n",
    "driver.quit()"
   ]
  },
  {
   "cell_type": "markdown",
   "metadata": {},
   "source": [
    "### 코드로 이해하는 Selenium 사용법: 브라우저 창 크기 조정 및 스크린샷\n",
    "\n",
    "- Selenium을 사용하면, 자동화된 브라우저 창의 크기를 조정하거나 웹 페이지의 스크린샷을 쉽게 캡처할 수 있음\n",
    "\n",
    "- **브라우저 창 크기 조정**: `driver.set_window_size(가로길이, 세로길이)`\n",
    "  - 브라우저 창 크기는 해당 웹페이지를 가져온 객체 (예: driver) 로 제어 가능\n",
    "  - `driver.set_window_size()` 메서드를 사용하여 브라우저 창의 크기를 지정할 수 있음\n",
    "  - 가로길이와 세로길이는 픽셀 단위로 지정함\n",
    "  - 예: `driver.set_window_size(1400, 1000)`는 브라우저 창의 크기를 가로 1400픽셀, 세로 1000픽셀로 설정함\n",
    "\n",
    "- **스크린샷 캡처**: `element.screenshot(\"파일이름\")`\n",
    "  - `element`는 `find_element()` 등의 메서드로 선택된 웹 요소라고 가정하면,\n",
    "  - `element.screenshot(\"davesite.png\")` 와 같이 스크린샷을 찍을 수 있음 (해당 예제는 \"davesite.png\" 파일로 스크린샷을 저장함)\n",
    "  - 스크린샷은 지정된 파일 이름으로 현재 작업 디렉토리에 저장됨"
   ]
  },
  {
   "cell_type": "code",
   "execution_count": 33,
   "metadata": {},
   "outputs": [],
   "source": [
    "from selenium import webdriver\n",
    "from selenium.webdriver.common.by import By\n",
    "from selenium.webdriver.common.keys import Keys\n",
    "\n",
    "driver = webdriver.Chrome()    \n",
    "driver.get(\"https://davelee-fun.github.io/\")\n",
    "\n",
    "# 브라우저 사이즈 조정\n",
    "driver.set_window_size(1400, 1000)\n",
    "\n",
    "# 특정 태그가 차지하는 영역 중 화면 사이즈만큼만 스크린샷으로 저장되므로\n",
    "# 전체 웹페이지 화면을 찍기 위해서는 body 태그로 요소를 지정\n",
    "element = driver.find_element(By.TAG_NAME, \"body\")\n",
    "\n",
    "# 스크린샷은 지정된 파일 이름으로 현재 작업 디렉토리에 저장됨\n",
    "# 저장이 안되면 해당 폴더가 쓰기 권한이 있는지 확인 필요 (관리자 권한으로 실행 필요할 수 있슴)\n",
    "element.screenshot(\"davesite.png\")\n",
    "\n",
    "# 명시적으로 일정시간을 기다릴 수 있음 (3초 기다림)\n",
    "time.sleep(5)\n",
    "\n",
    "driver.quit()"
   ]
  },
  {
   "cell_type": "markdown",
   "metadata": {},
   "source": [
    "### 코드로 이해하는 Headless Chrome\n",
    "- **Headless Chrome**은 UI(사용자 인터페이스) 없이 백그라운드에서 실행되는 Chrome 브라우저를 의미함\n",
    "  - 브라우저 창을 실제로 띄우지 않고 웹 페이지를 로드하며, 크롤링, 자동 테스트 등 다양한 작업을 수행할 수 있음\n",
    "  - 서버 환경이나, GUI가 없는 환경에서 유용하게 사용됨\n",
    "  - 리소스 사용을 최소화하면서 빠르게 작업을 처리할 수 있음\n",
    "\n",
    "- **Headless 모드 설정하기**: `ChromeOptions` 객체에 `headless` 인자 추가\n",
    "  - `webdriver.ChromeOptions()`를 사용하여 Chrome의 옵션을 설정할 수 있음\n",
    "  - `add_argument('headless')` 메서드를 호출하면 Chrome이 Headless 모드로 실행됨"
   ]
  },
  {
   "cell_type": "code",
   "execution_count": 35,
   "metadata": {},
   "outputs": [
    {
     "name": "stdout",
     "output_type": "stream",
     "text": [
      "Teddy의 선물 블로그\n"
     ]
    }
   ],
   "source": [
    "from selenium import webdriver\n",
    "from selenium.webdriver.common.by import By\n",
    "\n",
    "headlessoptions = webdriver.ChromeOptions()\n",
    "headlessoptions.add_argument('headless')\n",
    "\n",
    "driver = webdriver.Chrome(options=headlessoptions)\n",
    "\n",
    "driver.get('https://davelee-fun.github.io/')\n",
    "\n",
    "element = driver.find_element(By.TAG_NAME, \"h1\")\n",
    "\n",
    "print (element.text)\n",
    "    \n",
    "driver.quit()"
   ]
  },
  {
   "cell_type": "markdown",
   "metadata": {},
   "source": [
    "### Driver Wait\n",
    "- \"Driver Wait\" 은 time.sleep 과 다르게 해당 창의 로딩이 다 되었을 때까지 기다리는 상대적인 wait 방식이다.\n",
    "    - 웹페이지 상에 element 요소들이 나타날 때까지 10초동안은 기다리겠다\n",
    "    - 시간이 지나면 error 를 던진다.  "
   ]
  },
  {
   "cell_type": "code",
   "execution_count": 1,
   "metadata": {
    "scrolled": true
   },
   "outputs": [
    {
     "ename": "IndentationError",
     "evalue": "unexpected indent (1721119462.py, line 5)",
     "output_type": "error",
     "traceback": [
      "\u001b[1;36m  Cell \u001b[1;32mIn[1], line 5\u001b[1;36m\u001b[0m\n\u001b[1;33m    .until(EC.presence_of_all_elements_located\u001b[0m\n\u001b[1;37m    ^\u001b[0m\n\u001b[1;31mIndentationError\u001b[0m\u001b[1;31m:\u001b[0m unexpected indent\n"
     ]
    }
   ],
   "source": [
    "from selenium.webdriver.support.ui import WebDriverWait\n",
    "from selenium.webdriver.support import expected_conditions as EC\n",
    "\n",
    "WebDriverWait(driver, 10)\n",
    "    .until(EC.presence_of_all_elements_located\n",
    "           (By.CSS_SELECTOR, selector))"
   ]
  },
  {
   "cell_type": "markdown",
   "metadata": {},
   "source": [
    "### 코드로 이해하는 Selenium 사용법: Headless Chrome 추가 옵션\n",
    "\n",
    "- 일부 웹사이트는 크롤링을 방지하기 위해 다양한 기술을 사용하며, Headless Chrome이 명백한 크롤링 도구로 인식될 수 있음\n",
    "- 이를 우회하기 위해, Headless Chrome을 실제 사용자의 브라우저처럼 보이게 하는 추가 옵션을 설정할 수 있음\n",
    "  \n",
    "  > 크롤링은 웹서비스 운영자 입장에서는 막고싶은 프로그램입니다. 따라서 다양한 방법으로 크롤링을 감지하고 막고 있습니다. <br>\n",
    "  > 따라서 이와 같이 사용자의 브라우저처럼 보이게 하더라도, 크롤링으로 감지되어 크롤링이 안될 수 있습니다.\n",
    "\n",
    "- **추가 옵션 설명**:\n",
    "  - **window-size**: 브라우저 창의 크기를 지정. 일반적인 데스크탑 화면 크기로 설정하여 실제 사용자처럼 보이게 함\n",
    "  - **disable-gpu**: GPU 가속을 비활성화. 일부 시스템에서 Headless 모드가 GPU와 충돌을 일으킬 수 있으므로 비활성화함\n",
    "  - **User-Agent**: 웹서버에 제출되는 HTTP 요청 헤더의 일부로, 사용 중인 브라우저의 종류와 버전, 운영 체제 등의 정보를 포함. 실제 브라우저를 사용하는 것처럼 설정하여 웹서버를 속임\n",
    "  - **lang**: 사용자의 언어 설정. Headless 모드에서는 기본적으로 설정되지 않으므로, 특정 언어 설정을 추가함\n",
    "\n",
    "- **User-Agent 확인 방법**: 크롬 브라우저의 개발자 도구에서 (크롤링을 원하는 웹페이지에서 오른쪽 클릭 -> 검사 -> 콘솔 이동 후,  `navigator.userAgent`를 입력) 하면 현재 브라우저의 User-Agent 문자열을 확인할 수 있음"
   ]
  },
  {
   "cell_type": "code",
   "execution_count": 5,
   "metadata": {},
   "outputs": [
    {
     "ename": "NameError",
     "evalue": "name 'headlessoptions' is not defined",
     "output_type": "error",
     "traceback": [
      "\u001b[1;31m---------------------------------------------------------------------------\u001b[0m",
      "\u001b[1;31mNameError\u001b[0m                                 Traceback (most recent call last)",
      "Cell \u001b[1;32mIn[5], line 12\u001b[0m\n\u001b[0;32m      9\u001b[0m headless_options\u001b[38;5;241m.\u001b[39madd_argument(\u001b[38;5;124m\"\u001b[39m\u001b[38;5;124mMozilla/5.0 (Linux; Android 6.0; Nexus 5 Build/MRA58N) AppleWebKit/537.36 (KHTML, like Gecko) Chrome/122.0.0.0 Mobile Safari/537.36\u001b[39m\u001b[38;5;124m\"\u001b[39m)\n\u001b[0;32m     10\u001b[0m headless_options\u001b[38;5;241m.\u001b[39madd_argument(\u001b[38;5;124m\"\u001b[39m\u001b[38;5;124mlang=ko_KR\u001b[39m\u001b[38;5;124m\"\u001b[39m)\n\u001b[1;32m---> 12\u001b[0m driver \u001b[38;5;241m=\u001b[39m webdriver\u001b[38;5;241m.\u001b[39mChrome(options\u001b[38;5;241m=\u001b[39mheadlessoptions)\n\u001b[0;32m     13\u001b[0m driver\u001b[38;5;241m.\u001b[39mget(\u001b[38;5;124m'\u001b[39m\u001b[38;5;124mhttps://davelee-fun.github.io/\u001b[39m\u001b[38;5;124m'\u001b[39m)\n\u001b[0;32m     15\u001b[0m \u001b[38;5;66;03m# 웹 페이지에서 <h1> 태그의 요소 찾기\u001b[39;00m\n",
      "\u001b[1;31mNameError\u001b[0m: name 'headlessoptions' is not defined"
     ]
    }
   ],
   "source": [
    "from selenium import webdriver\n",
    "from selenium.webdriver.common.by import By\n",
    "\n",
    "# Headless Chrome 옵션 설정\n",
    "headless_options = webdriver.ChromeOptions()\n",
    "headless_options.add_argument('headless')\n",
    "headless_options.add_argument('window-size=1920x1080')\n",
    "headless_options.add_argument('disable-gpu')\n",
    "headless_options.add_argument(\"Mozilla/5.0 (Linux; Android 6.0; Nexus 5 Build/MRA58N) AppleWebKit/537.36 (KHTML, like Gecko) Chrome/122.0.0.0 Mobile Safari/537.36\")\n",
    "headless_options.add_argument(\"lang=ko_KR\")\n",
    "\n",
    "driver = webdriver.Chrome(options=headlessoptions)\n",
    "driver.get('https://davelee-fun.github.io/')\n",
    "\n",
    "# 웹 페이지에서 <h1> 태그의 요소 찾기\n",
    "element = driver.find_element(By.TAG_NAME, \"h1\")\n",
    "\n",
    "# 찾은 요소의 텍스트 출력\n",
    "print(element.text)\n",
    "\n",
    "# 드라이버 종료 및 브라우저 닫기\n",
    "driver.quit()"
   ]
  },
  {
   "cell_type": "markdown",
   "metadata": {},
   "source": [
    "<div class=\"alert alert-block\" style=\"border: 1px solid #455A64;background-color:#ECEFF1;\">\n",
    "본 자료 및 영상 컨텐츠는 저작권법 제25조 2항에 의해 보호를 받습니다. 본 컨텐츠 및 컨텐츠 일부 문구등을 외부에 공개, 게시하는 것을 금지합니다. 특히 자료에 대해서는 저작권법을 엄격하게 적용하겠습니다.\n",
    "</div>"
   ]
  }
 ],
 "metadata": {
  "kernelspec": {
   "display_name": "Python 3 (ipykernel)",
   "language": "python",
   "name": "python3"
  },
  "language_info": {
   "codemirror_mode": {
    "name": "ipython",
    "version": 3
   },
   "file_extension": ".py",
   "mimetype": "text/x-python",
   "name": "python",
   "nbconvert_exporter": "python",
   "pygments_lexer": "ipython3",
   "version": "3.11.7"
  }
 },
 "nbformat": 4,
 "nbformat_minor": 4
}
