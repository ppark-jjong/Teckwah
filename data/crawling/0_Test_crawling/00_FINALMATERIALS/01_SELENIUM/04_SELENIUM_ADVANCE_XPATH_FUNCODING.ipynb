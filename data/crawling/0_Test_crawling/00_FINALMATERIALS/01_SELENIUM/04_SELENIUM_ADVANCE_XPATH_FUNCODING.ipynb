{
 "cells": [
  {
   "cell_type": "markdown",
   "metadata": {},
   "source": [
    "<div class=\"alert alert-block\" style=\"border: 1px solid #455A64;background-color:#ECEFF1;\">\n",
    "본 자료 및 영상 컨텐츠는 저작권법 제25조 2항에 의해 보호를 받습니다. 본 컨텐츠 및 컨텐츠 일부 문구등을 외부에 공개, 게시하는 것을 금지합니다. 특히 자료에 대해서는 저작권법을 엄격하게 적용하겠습니다.\n",
    "</div>"
   ]
  },
  {
   "cell_type": "markdown",
   "metadata": {},
   "source": [
    "## XPATH를 이용하여 크롤링하기\n",
    " - 마크업에서 요소를 정의하기 위해 path 경로를 사용하는 방법\n",
    " - 본래는 XML 에서 특정 데이터를 선택하기 위한 기법으로 활용되었음 \n",
    "    - 참고: HTML 에서 특정 데이터를 선택하기 위한 기법으로 CSS Selector 를 사용하듯이, XML 에서 특정 데이터를 선택하기 위해, XPATH 기법을 사용함\n",
    " - find_element(By.XPATH, \"XPATH\") 또는 find_elements(By.XPATH, \"XPATH\") 메서드로 검색 가능\n",
    " \n",
    " > 파이썬 입문과 크롤링 부트캠프에서 익힌 BeautifulSoup 에서는 지원되지 않지만, Selenium 에서는 지원되는 기법으로, CSS Selector 보다 오래전부터 활용되던 기법임\n",
    " > 현재는 CSS Selector 를 주로 활용하시는 것을 추천드리며, 다만, 구글링을 하다보면, 이전 코드 중에, XPATH 를 쓰는 경우가 있을 수 있으므로, 역시 이 때 해당 문법이 XPATH 임을 인지할 수 있을 정도면 괜찮습니다~~"
   ]
  },
  {
   "cell_type": "markdown",
   "metadata": {},
   "source": [
    "### 참고: XML 포멧 이해하기\n",
    "* XML(Extensible Markup Language)\n",
    "  - 특정 목적에 따라 데이터를 태그로 감싸서 마크업하는 범용적인 포멧\n",
    "  - 마크업 언어는 태그 등을 이용하여 데이터의 구조를 기술하는 언어의 한 가지\n",
    "  - 가장 친숙한 마크업 언어가 HTML\n",
    "  - XML은 HTML과 마찬가지로 데이터를 계층 구조로 표현\n",
    "  - XML 기본 구조\n",
    "    ```\n",
    "    <태그 속성=\"속성값\">내용</태그>\n",
    "\n",
    "    ```\n",
    "  - 태그와 속성은 특정 목적에 따라 임의로 이름을 정해서 사용\n",
    "    ```\n",
    "    <product id=\"M001\" price=\"300000\">32인치 LCD 모니터</product>  \n",
    "    ```\n",
    "  - 다른 요소와 그룹으로 묶을 수도 있음\n",
    "    ```\n",
    "    <products type=\"전자제품\">\n",
    "        <product id=\"M001\" price=\"300000\">32인치 LCD 모니터</product>\n",
    "        <product id=\"M002\" price=\"210000\">24인치 LCD 모니터</product>\n",
    "    </products>  \n",
    "    ```"
   ]
  },
  {
   "cell_type": "markdown",
   "metadata": {},
   "source": [
    "### HTML 크롤링을 위한 기본 XPATH 문법\n",
    "<div class=\"alert alert-block\" style=\"border: 2px solid #E65100;background-color:#FFF3E0;padding:10px\">\n",
    "<font size=\"4em\" style=\"font-weight:bold;color:#BF360C;\">HTML 크롤링을 위한 XPATH 기본 포멧= //tagname[@Attribute='value']</font><br>\n",
    "- taganme: HTML 태그 이름<br>\n",
    "- Attribute: HTML 태그의 속성<br>\n",
    "- value: HTML 태그의 속성값\n",
    "</div>"
   ]
  },
  {
   "cell_type": "markdown",
   "metadata": {},
   "source": [
    "### HTML 크롤링을 위한 주요 XPATH 문법\n",
    "   - / : 절대경로를 나타냄 (예: /html/body/div/div)\n",
    "   - // : 문서내에서 검색 (예: //h1 -> h1 태그를 가진 데이터를 선택)\n",
    "   - //*[@href] : href 속성이 있는 모든 태그 선택\n",
    "   - //a[@href='http://google.com'] : a 태그의 href 속성에 http://google.com 속성값을 가진 모든 태그 선택 \n",
    "   - (//a)[3] : 문서의 세 번째 링크 선택\n",
    "   - (//table)[last()] : 문서의 마지막 테이블 선택\n",
    "   - (//a)[position() < 3] : 문서의 처음 두 링크 선택\n",
    "   - //div[@*] 속성이 하나라도 있는 div 태그 선택"
   ]
  },
  {
   "cell_type": "markdown",
   "metadata": {},
   "source": [
    "### Selenium 에서의 XPATH \n",
    "- `driver.find_element(By.XPATH, \"XPATH포멧\")` 과 같이 By.XPATH 를 사용하면 됨"
   ]
  },
  {
   "cell_type": "markdown",
   "metadata": {},
   "source": [
    "### 절대경로 예\n",
    "- /html/body/div/div/div/h1 : html > body > div > div > div > h1 태그"
   ]
  },
  {
   "cell_type": "code",
   "execution_count": 4,
   "metadata": {},
   "outputs": [
    {
     "name": "stdout",
     "output_type": "stream",
     "text": [
      "Teddy의 선물 블로그\n"
     ]
    }
   ],
   "source": [
    "from selenium import webdriver\n",
    "from selenium.webdriver.common.by import By\n",
    "\n",
    "driver = webdriver.Chrome() \n",
    "driver.get(\"https://davelee-fun.github.io/\")\n",
    "\n",
    "element = driver.find_element(By.XPATH, \"/html/body/div/div/div/h1\")\n",
    "                    \n",
    "print (element.text)\n",
    "\n",
    "driver.quit()"
   ]
  },
  {
   "cell_type": "markdown",
   "metadata": {},
   "source": [
    "### 상대경로 예\n",
    "- //h1 : 전체 HTML 코드 중 h1 태그"
   ]
  },
  {
   "cell_type": "code",
   "execution_count": 5,
   "metadata": {},
   "outputs": [
    {
     "name": "stdout",
     "output_type": "stream",
     "text": [
      "Teddy의 선물 블로그\n"
     ]
    }
   ],
   "source": [
    "from selenium import webdriver\n",
    "from selenium.webdriver.common.by import By\n",
    "\n",
    "driver = webdriver.Chrome() \n",
    "driver.get(\"https://davelee-fun.github.io/\")\n",
    "\n",
    "element = driver.find_element(By.XPATH, \"//h1\")\n",
    "                    \n",
    "print (element.text)\n",
    "\n",
    "driver.quit()"
   ]
  },
  {
   "cell_type": "markdown",
   "metadata": {},
   "source": [
    "### 특정 속성을 가진 태그 선택 예\n",
    "- //*[@href] : 전체 HTML 코드 중 href 속성을 가진 태그"
   ]
  },
  {
   "cell_type": "code",
   "execution_count": 6,
   "metadata": {},
   "outputs": [
    {
     "name": "stdout",
     "output_type": "stream",
     "text": [
      "(왕초보) - 클래스 소개\n",
      "(왕초보) - 블로그 개발 필요한 준비물 준비하기\n",
      "(왕초보) - Github pages 설정해서 블로그 첫 페이지 만들어보기\n",
      "(왕초보) - 초간단 페이지 만들어보기\n",
      "(왕초보) - 이쁘게 테마 적용해보기\n",
      "(왕초보) - 마크다운 기초 이해하고, 실제 나만의 블로그 페이지 만들기\n",
      "(왕초보) - 다양한 마크다운 기법 익혀보며, 나만의 블로그 페이지 꾸며보기\n",
      "(초급) - 강사가 실제 사용하는 자동 프로그램 소개 [2]\n",
      "(초급) - 필요한 프로그램 설치 시연 [5]\n",
      "(초급) - 데이터를 엑셀 파일로 만들기 [9]\n",
      "(초급) -     엑셀 파일 이쁘게! 이쁘게! [8]\n",
      "(초급) -     나대신 주기적으로 파이썬 프로그램 실행하기 [7]\n",
      "(초급) - 파이썬으로 슬랙(slack) 메신저에 글쓰기 [40]\n",
      "(초급) - 웹사이트 변경사항 주기적으로 체크해서, 메신저로 알람주기 [12]\n",
      "(초급) - 네이버 API 사용해서, 블로그에 글쓰기 [42]\n",
      "(중급) - 자동으로 쿠팡파트너스 API 로 가져온 상품 정보, 네이버 블로그/트위터에 홍보하기 [412]\n"
     ]
    }
   ],
   "source": [
    "from selenium import webdriver\n",
    "from selenium.webdriver.common.by import By\n",
    "\n",
    "driver = webdriver.Chrome() \n",
    "driver.get(\"https://davelee-fun.github.io/blog/crawl_html_css.html\")\n",
    "\n",
    "elements = driver.find_elements(By.XPATH, \"//*[@href]\")\n",
    "                    \n",
    "for element in elements:\n",
    "    print (element.text)\n",
    "    \n",
    "driver.quit()"
   ]
  },
  {
   "cell_type": "markdown",
   "metadata": {},
   "source": [
    "### 상대경로 + 특정 태그와 특정 속성/속성값 선택 예\n",
    "- //div[@class='skill-name'] : class 속성을 가지고 있고, class 의 값이 skill-name 인 div 태그"
   ]
  },
  {
   "cell_type": "code",
   "execution_count": 7,
   "metadata": {},
   "outputs": [
    {
     "name": "stdout",
     "output_type": "stream",
     "text": [
      "업무 자동화\n",
      "데이터 분석\n",
      "AI\n",
      "풀스택\n"
     ]
    }
   ],
   "source": [
    "from selenium import webdriver\n",
    "from selenium.webdriver.common.by import By\n",
    "\n",
    "driver = webdriver.Chrome() \n",
    "driver.get(\"https://davelee-fun.github.io/blog/TEST/index.html\")\n",
    "\n",
    "elements = driver.find_elements(By.XPATH, \"//div[@class='skill-name']\")\n",
    "                     \n",
    "for element in elements:\n",
    "    print (element.text)\n",
    "    \n",
    "driver.quit()"
   ]
  },
  {
   "cell_type": "markdown",
   "metadata": {},
   "source": [
    "### 상대경로 + 특정 태그와 특정 속성/속성값 리스트 중 특정 데이터 선택 예\n",
    "- (//div[@class='skill-name'])[3] : class 속성을 가지고 있고, class 의 값이 skill-name 인 div 태그들 중에, HTML 코드 위에서 세번째 해당하는 div 태그 선택 "
   ]
  },
  {
   "cell_type": "code",
   "execution_count": 8,
   "metadata": {},
   "outputs": [
    {
     "name": "stdout",
     "output_type": "stream",
     "text": [
      "AI\n"
     ]
    }
   ],
   "source": [
    "from selenium import webdriver\n",
    "from selenium.webdriver.common.by import By\n",
    "\n",
    "driver = webdriver.Chrome() \n",
    "driver.get(\"https://davelee-fun.github.io/blog/TEST/index.html\")\n",
    "\n",
    "element = driver.find_element(By.XPATH, \"(//div[@class='skill-name'])[3]\")\n",
    "\n",
    "print (element.text)\n",
    "\n",
    "driver.quit()"
   ]
  },
  {
   "cell_type": "markdown",
   "metadata": {},
   "source": [
    "### 특정 행의 데이터 선택 예\n",
    "- (//tr)[position() = 1], (//tr)[position() = 2], (//tr)[position() = 3] : 특정 차례의 tr 데이터 (position 은 1 부터 시작)\n",
    "- (//tr)[last()] : 마지막 tr 데이터"
   ]
  },
  {
   "cell_type": "code",
   "execution_count": 11,
   "metadata": {},
   "outputs": [
    {
     "name": "stdout",
     "output_type": "stream",
     "text": [
      "일정 커리큘럼 타이틀 난이도\n"
     ]
    }
   ],
   "source": [
    "from selenium import webdriver\n",
    "from selenium.webdriver.common.by import By\n",
    "\n",
    "driver = webdriver.Chrome()   \n",
    "driver.get(\"https://davelee-fun.github.io/blog/crawl_html_css.html\")\n",
    "\n",
    "element = driver.find_element(By.XPATH, \"(//tr)[last()]\")\n",
    "\n",
    "print (element.text)\n",
    "\n",
    "driver.quit()"
   ]
  },
  {
   "cell_type": "markdown",
   "metadata": {},
   "source": [
    "### 속성을 하나 이상 가진 태그 선택 예\n",
    "- //p[@*] : 속성을 하나 이상 가진 p 태그"
   ]
  },
  {
   "cell_type": "code",
   "execution_count": 12,
   "metadata": {},
   "outputs": [
    {
     "name": "stdout",
     "output_type": "stream",
     "text": [
      "선물하기 좋은 선물을 고르고 골라서 소개하는 블로그입니다.\n"
     ]
    }
   ],
   "source": [
    "from selenium import webdriver\n",
    "from selenium.webdriver.common.by import By\n",
    "\n",
    "driver = webdriver.Chrome() \n",
    "driver.get(\"https://davelee-fun.github.io/\")\n",
    "\n",
    "element = driver.find_element(By.XPATH, \"//p[@*]\")\n",
    "\n",
    "print (element.text)\n",
    "\n",
    "driver.quit()"
   ]
  },
  {
   "cell_type": "markdown",
   "metadata": {},
   "source": [
    "<div class=\"alert alert-block\" style=\"border: 1px solid #455A64;background-color:#ECEFF1;\">\n",
    "본 자료 및 영상 컨텐츠는 저작권법 제25조 2항에 의해 보호를 받습니다. 본 컨텐츠 및 컨텐츠 일부 문구등을 외부에 공개, 게시하는 것을 금지합니다. 특히 자료에 대해서는 저작권법을 엄격하게 적용하겠습니다.\n",
    "</div>"
   ]
  }
 ],
 "metadata": {
  "kernelspec": {
   "display_name": "Python 3 (ipykernel)",
   "language": "python",
   "name": "python3"
  },
  "language_info": {
   "codemirror_mode": {
    "name": "ipython",
    "version": 3
   },
   "file_extension": ".py",
   "mimetype": "text/x-python",
   "name": "python",
   "nbconvert_exporter": "python",
   "pygments_lexer": "ipython3",
   "version": "3.11.5"
  },
  "nbTranslate": {
   "displayLangs": [
    "*"
   ],
   "hotkey": "alt-t",
   "langInMainMenu": true,
   "sourceLang": "en",
   "targetLang": "fr",
   "useGoogleTranslate": true
  }
 },
 "nbformat": 4,
 "nbformat_minor": 4
}
